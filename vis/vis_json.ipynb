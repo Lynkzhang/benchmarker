{
 "cells": [
  {
   "cell_type": "code",
   "execution_count": 154,
   "metadata": {
    "collapsed": true
   },
   "outputs": [],
   "source": [
    "import pandas\n",
    "import json\n",
    "import matplotlib as mpl\n",
    "from matplotlib import pyplot as plt\n",
    "import numpy as np\n",
    "import os\n",
    "import sys\n",
    "%matplotlib inline\n",
    "plt.style.use('bmh')\n",
    "plt.style.use('dark_background')\n",
    "sys.path.append(\"/work/alex/projects/AI and Machine Learning/Performance/benchmarker/sysinfo\")\n",
    "from cute_device import get_cute_device_str"
   ]
  },
  {
   "cell_type": "code",
   "execution_count": 155,
   "metadata": {
    "collapsed": true
   },
   "outputs": [],
   "source": [
    "path=\"/work/alex/data/DL_perf/json/\""
   ]
  },
  {
   "cell_type": "code",
   "execution_count": 156,
   "metadata": {
    "collapsed": true
   },
   "outputs": [],
   "source": [
    "def autolabel(rects,ax):\n",
    "    \"\"\"\n",
    "    Attach a text label above each bar displaying its height\n",
    "    \"\"\"\n",
    "    max_height=200\n",
    "    for rect in rects:\n",
    "        height = rect.get_height()\n",
    "        if height<15:\n",
    "            ax.text(rect.get_x() + rect.get_width()/2., 1.05*height, '{:.2f}'.format(height), ha='center', va='bottom', fontsize=14)\n",
    "        if height>max_height:\n",
    "            ax.text(rect.get_x() + rect.get_width()/2., 1.05*max_height, '{:.2f}'.format(height), ha='center', va='bottom', fontsize=14, color=\"red\")"
   ]
  },
  {
   "cell_type": "code",
   "execution_count": 157,
   "metadata": {
    "collapsed": true
   },
   "outputs": [],
   "source": [
    "def read_file(f):\n",
    "    with open(f) as f:\n",
    "        data = json.load(f)\n",
    "    return data\n",
    "\n",
    "def read_df_from_dir(path):\n",
    "    data=[read_file(os.path.join(path,f)) for f in os.listdir(path) if not f.startswith(\"arch\")]\n",
    "    df=pandas.DataFrame(data)\n",
    "    df[\"device\"] = df[\"device\"].apply(get_cute_device_str)\n",
    "    return df"
   ]
  },
  {
   "cell_type": "code",
   "execution_count": 158,
   "metadata": {
    "collapsed": true
   },
   "outputs": [],
   "source": [
    "df = read_df_from_dir(path)"
   ]
  },
  {
   "cell_type": "code",
   "execution_count": 159,
   "metadata": {},
   "outputs": [
    {
     "data": {
      "text/html": [
       "<div>\n",
       "<table border=\"1\" class=\"dataframe\">\n",
       "  <thead>\n",
       "    <tr style=\"text-align: right;\">\n",
       "      <th></th>\n",
       "      <th>batch_size</th>\n",
       "      <th>bytes_x_train</th>\n",
       "      <th>cnt_classes</th>\n",
       "      <th>cpu_brand</th>\n",
       "      <th>cpu_count</th>\n",
       "      <th>device</th>\n",
       "      <th>framework</th>\n",
       "      <th>framework_full</th>\n",
       "      <th>gpu</th>\n",
       "      <th>gpus</th>\n",
       "      <th>hostname</th>\n",
       "      <th>hostname_short</th>\n",
       "      <th>linux</th>\n",
       "      <th>nb_gpus</th>\n",
       "      <th>path_out</th>\n",
       "      <th>problem</th>\n",
       "      <th>shape_x_train</th>\n",
       "      <th>time</th>\n",
       "    </tr>\n",
       "  </thead>\n",
       "  <tbody>\n",
       "    <tr>\n",
       "      <th>0</th>\n",
       "      <td>8</td>\n",
       "      <td>134217728</td>\n",
       "      <td>NaN</td>\n",
       "      <td>Intel(R) Xeon(R) CPU E5-2650 v3 @ 2.30GHz</td>\n",
       "      <td>40</td>\n",
       "      <td>P100-PCIE</td>\n",
       "      <td>chainer</td>\n",
       "      <td>Chainer-2.0.0a1</td>\n",
       "      <td>Tesla P100-PCIE-16GB</td>\n",
       "      <td>[1]</td>\n",
       "      <td>roma4.m.gsic.titech.ac.jp</td>\n",
       "      <td>roma4</td>\n",
       "      <td>Linux-3.10.0-514.16.1.el7.x86_64-x86_64-with-c...</td>\n",
       "      <td>1</td>\n",
       "      <td>./</td>\n",
       "      <td>conv2d_1</td>\n",
       "      <td>[2048, 1, 128, 128]</td>\n",
       "      <td>2.866930</td>\n",
       "    </tr>\n",
       "    <tr>\n",
       "      <th>1</th>\n",
       "      <td>8</td>\n",
       "      <td>134217728</td>\n",
       "      <td>1.0</td>\n",
       "      <td>Intel(R) Xeon(R) CPU E5-2650 v3 @ 2.30GHz</td>\n",
       "      <td>40</td>\n",
       "      <td>P100-PCIE</td>\n",
       "      <td>tensorflow</td>\n",
       "      <td>Keras-2.0.4/tensorflow_1.1.0-rc1</td>\n",
       "      <td>Tesla P100-PCIE-16GB</td>\n",
       "      <td>[1]</td>\n",
       "      <td>roma4.m.gsic.titech.ac.jp</td>\n",
       "      <td>roma4</td>\n",
       "      <td>Linux-3.10.0-514.16.1.el7.x86_64-x86_64-with-c...</td>\n",
       "      <td>1</td>\n",
       "      <td>./</td>\n",
       "      <td>conv2d_2</td>\n",
       "      <td>[2048, 1, 128, 128]</td>\n",
       "      <td>20.935622</td>\n",
       "    </tr>\n",
       "    <tr>\n",
       "      <th>2</th>\n",
       "      <td>8</td>\n",
       "      <td>134217728</td>\n",
       "      <td>NaN</td>\n",
       "      <td>Intel(R) Xeon(R) CPU E5-2650 v3 @ 2.30GHz</td>\n",
       "      <td>40</td>\n",
       "      <td>P100-PCIE</td>\n",
       "      <td>mxnet</td>\n",
       "      <td>MXNet-0.9.3</td>\n",
       "      <td>Tesla P100-PCIE-16GB</td>\n",
       "      <td>[1]</td>\n",
       "      <td>roma4.m.gsic.titech.ac.jp</td>\n",
       "      <td>roma4</td>\n",
       "      <td>Linux-3.10.0-514.16.1.el7.x86_64-x86_64-with-c...</td>\n",
       "      <td>1</td>\n",
       "      <td>./</td>\n",
       "      <td>conv2d_1</td>\n",
       "      <td>[2048, 1, 128, 128]</td>\n",
       "      <td>1.267838</td>\n",
       "    </tr>\n",
       "    <tr>\n",
       "      <th>3</th>\n",
       "      <td>8</td>\n",
       "      <td>134217728</td>\n",
       "      <td>1.0</td>\n",
       "      <td>Intel(R) Xeon(R) CPU E5-2650 v3 @ 2.30GHz</td>\n",
       "      <td>40</td>\n",
       "      <td>P100-PCIE</td>\n",
       "      <td>theano</td>\n",
       "      <td>Keras-2.0.3/theano_0.9.0</td>\n",
       "      <td>Tesla P100-PCIE-16GB</td>\n",
       "      <td>[1]</td>\n",
       "      <td>roma4.m.gsic.titech.ac.jp</td>\n",
       "      <td>roma4</td>\n",
       "      <td>Linux-3.10.0-514.16.1.el7.x86_64-x86_64-with-c...</td>\n",
       "      <td>1</td>\n",
       "      <td>./</td>\n",
       "      <td>conv2d_2</td>\n",
       "      <td>[2048, 1, 128, 128]</td>\n",
       "      <td>6.287895</td>\n",
       "    </tr>\n",
       "    <tr>\n",
       "      <th>4</th>\n",
       "      <td>512</td>\n",
       "      <td>456649800</td>\n",
       "      <td>57.0</td>\n",
       "      <td>Intel(R) Xeon(R) CPU E5-2650 v3 @ 2.30GHz</td>\n",
       "      <td>40</td>\n",
       "      <td>P100-PCIE</td>\n",
       "      <td>tensorflow</td>\n",
       "      <td>Keras-2.0.3/tensorflow_1.1.0-rc1</td>\n",
       "      <td>Tesla P100-PCIE-16GB</td>\n",
       "      <td>[1]</td>\n",
       "      <td>roma4.m.gsic.titech.ac.jp</td>\n",
       "      <td>roma4</td>\n",
       "      <td>Linux-3.10.0-514.16.1.el7.x86_64-x86_64-with-c...</td>\n",
       "      <td>1</td>\n",
       "      <td>./</td>\n",
       "      <td>lstm_char1</td>\n",
       "      <td>[200285, 40, 57]</td>\n",
       "      <td>38.029440</td>\n",
       "    </tr>\n",
       "    <tr>\n",
       "      <th>5</th>\n",
       "      <td>8</td>\n",
       "      <td>134217728</td>\n",
       "      <td>NaN</td>\n",
       "      <td>Intel(R) Xeon(R) CPU E5-2699 v3 @ 2.30GHz</td>\n",
       "      <td>36</td>\n",
       "      <td>E5-2699</td>\n",
       "      <td>tensorflow</td>\n",
       "      <td>Keras-2.0.3/tensorflow_1.1.0-rc1</td>\n",
       "      <td>Tesla K40c</td>\n",
       "      <td>NaN</td>\n",
       "      <td>paris0.m.gsic.titech.ac.jp</td>\n",
       "      <td>paris0</td>\n",
       "      <td>Linux-3.10.0-327.36.2.el7.x86_64-x86_64-with-c...</td>\n",
       "      <td>0</td>\n",
       "      <td>/work/alex/data/DL_perf/json</td>\n",
       "      <td>conv2d_1</td>\n",
       "      <td>[2048, 1, 128, 128]</td>\n",
       "      <td>0.874078</td>\n",
       "    </tr>\n",
       "    <tr>\n",
       "      <th>6</th>\n",
       "      <td>8</td>\n",
       "      <td>134217728</td>\n",
       "      <td>1.0</td>\n",
       "      <td>Intel(R) Xeon(R) CPU E5-2650 v3 @ 2.30GHz</td>\n",
       "      <td>40</td>\n",
       "      <td>P100-PCIE</td>\n",
       "      <td>theano</td>\n",
       "      <td>Keras-2.0.4/theano_0.9.0</td>\n",
       "      <td>Tesla P100-PCIE-16GB</td>\n",
       "      <td>[1]</td>\n",
       "      <td>roma4.m.gsic.titech.ac.jp</td>\n",
       "      <td>roma4</td>\n",
       "      <td>Linux-3.10.0-514.16.1.el7.x86_64-x86_64-with-c...</td>\n",
       "      <td>1</td>\n",
       "      <td>./</td>\n",
       "      <td>conv2d_2</td>\n",
       "      <td>[2048, 1, 128, 128]</td>\n",
       "      <td>6.281071</td>\n",
       "    </tr>\n",
       "    <tr>\n",
       "      <th>7</th>\n",
       "      <td>8</td>\n",
       "      <td>134217728</td>\n",
       "      <td>1.0</td>\n",
       "      <td>Intel(R) Xeon(R) CPU E5-2650 v3 @ 2.30GHz</td>\n",
       "      <td>40</td>\n",
       "      <td>P100-PCIE</td>\n",
       "      <td>tensorflow</td>\n",
       "      <td>Keras-2.0.4/tensorflow_1.1.0-rc1</td>\n",
       "      <td>Tesla P100-PCIE-16GB</td>\n",
       "      <td>[1]</td>\n",
       "      <td>roma4.m.gsic.titech.ac.jp</td>\n",
       "      <td>roma4</td>\n",
       "      <td>Linux-3.10.0-514.16.1.el7.x86_64-x86_64-with-c...</td>\n",
       "      <td>1</td>\n",
       "      <td>./</td>\n",
       "      <td>conv2d_1</td>\n",
       "      <td>[2048, 1, 128, 128]</td>\n",
       "      <td>1.711512</td>\n",
       "    </tr>\n",
       "    <tr>\n",
       "      <th>8</th>\n",
       "      <td>8</td>\n",
       "      <td>134217728</td>\n",
       "      <td>NaN</td>\n",
       "      <td>Intel(R) Xeon(R) CPU E5-2699 v3 @ 2.30GHz</td>\n",
       "      <td>36</td>\n",
       "      <td>E5-2699</td>\n",
       "      <td>tensorflow</td>\n",
       "      <td>Keras-2.0.3/tensorflow_1.1.0-rc1</td>\n",
       "      <td>Tesla K40c</td>\n",
       "      <td>NaN</td>\n",
       "      <td>paris0.m.gsic.titech.ac.jp</td>\n",
       "      <td>paris0</td>\n",
       "      <td>Linux-3.10.0-327.36.2.el7.x86_64-x86_64-with-c...</td>\n",
       "      <td>0</td>\n",
       "      <td>/work/alex/data/DL_perf/json</td>\n",
       "      <td>conv3d_1</td>\n",
       "      <td>[1024, 1, 32, 32, 32]</td>\n",
       "      <td>8.861501</td>\n",
       "    </tr>\n",
       "    <tr>\n",
       "      <th>9</th>\n",
       "      <td>512</td>\n",
       "      <td>456649800</td>\n",
       "      <td>57.0</td>\n",
       "      <td>Intel(R) Xeon(R) CPU E5-2650 v3 @ 2.30GHz</td>\n",
       "      <td>40</td>\n",
       "      <td>P100-PCIE</td>\n",
       "      <td>theano</td>\n",
       "      <td>Keras-2.0.3/theano_0.9.0</td>\n",
       "      <td>Tesla P100-PCIE-16GB</td>\n",
       "      <td>[1]</td>\n",
       "      <td>roma4.m.gsic.titech.ac.jp</td>\n",
       "      <td>roma4</td>\n",
       "      <td>Linux-3.10.0-514.16.1.el7.x86_64-x86_64-with-c...</td>\n",
       "      <td>1</td>\n",
       "      <td>./</td>\n",
       "      <td>lstm_char1</td>\n",
       "      <td>[200285, 40, 57]</td>\n",
       "      <td>29.548766</td>\n",
       "    </tr>\n",
       "    <tr>\n",
       "      <th>10</th>\n",
       "      <td>512</td>\n",
       "      <td>456649800</td>\n",
       "      <td>57.0</td>\n",
       "      <td>Intel(R) Xeon(R) CPU E5-2650 v3 @ 2.30GHz</td>\n",
       "      <td>40</td>\n",
       "      <td>P100-PCIE</td>\n",
       "      <td>theano</td>\n",
       "      <td>Keras-2.0.3/theano_0.9.0</td>\n",
       "      <td>Tesla P100-PCIE-16GB</td>\n",
       "      <td>[1]</td>\n",
       "      <td>roma4.m.gsic.titech.ac.jp</td>\n",
       "      <td>roma4</td>\n",
       "      <td>Linux-3.10.0-514.16.1.el7.x86_64-x86_64-with-c...</td>\n",
       "      <td>1</td>\n",
       "      <td>./</td>\n",
       "      <td>lstm_char1</td>\n",
       "      <td>[200285, 40, 57]</td>\n",
       "      <td>28.763147</td>\n",
       "    </tr>\n",
       "    <tr>\n",
       "      <th>11</th>\n",
       "      <td>8</td>\n",
       "      <td>134217728</td>\n",
       "      <td>1.0</td>\n",
       "      <td>Intel(R) Xeon(R) CPU E5-2650 v3 @ 2.30GHz</td>\n",
       "      <td>40</td>\n",
       "      <td>P100-PCIE</td>\n",
       "      <td>theano</td>\n",
       "      <td>Keras-2.0.3/theano_0.9.0</td>\n",
       "      <td>Tesla P100-PCIE-16GB</td>\n",
       "      <td>[1]</td>\n",
       "      <td>roma4.m.gsic.titech.ac.jp</td>\n",
       "      <td>roma4</td>\n",
       "      <td>Linux-3.10.0-514.16.1.el7.x86_64-x86_64-with-c...</td>\n",
       "      <td>1</td>\n",
       "      <td>./</td>\n",
       "      <td>conv3d_1</td>\n",
       "      <td>[1024, 1, 32, 32, 32]</td>\n",
       "      <td>1.103491</td>\n",
       "    </tr>\n",
       "    <tr>\n",
       "      <th>12</th>\n",
       "      <td>8</td>\n",
       "      <td>134217728</td>\n",
       "      <td>NaN</td>\n",
       "      <td>Intel(R) Xeon(R) CPU E5-2699 v3 @ 2.30GHz</td>\n",
       "      <td>36</td>\n",
       "      <td>E5-2699</td>\n",
       "      <td>theano</td>\n",
       "      <td>Keras-2.0.3/theano_0.9.0</td>\n",
       "      <td>Tesla K40c</td>\n",
       "      <td>NaN</td>\n",
       "      <td>paris1.m.gsic.titech.ac.jp</td>\n",
       "      <td>paris1</td>\n",
       "      <td>Linux-3.10.0-327.36.1.el7.x86_64-x86_64-with-c...</td>\n",
       "      <td>0</td>\n",
       "      <td>/work/alex/data/DL_perf/json</td>\n",
       "      <td>conv3d_1</td>\n",
       "      <td>[1024, 1, 32, 32, 32]</td>\n",
       "      <td>12.678342</td>\n",
       "    </tr>\n",
       "    <tr>\n",
       "      <th>13</th>\n",
       "      <td>8</td>\n",
       "      <td>134217728</td>\n",
       "      <td>NaN</td>\n",
       "      <td>Intel(R) Xeon(R) CPU E5-2699 v3 @ 2.30GHz</td>\n",
       "      <td>36</td>\n",
       "      <td>E5-2699</td>\n",
       "      <td>theano</td>\n",
       "      <td>Keras-2.0.3/theano_0.9.0</td>\n",
       "      <td>Tesla K40c</td>\n",
       "      <td>NaN</td>\n",
       "      <td>paris0.m.gsic.titech.ac.jp</td>\n",
       "      <td>paris0</td>\n",
       "      <td>Linux-3.10.0-327.36.2.el7.x86_64-x86_64-with-c...</td>\n",
       "      <td>0</td>\n",
       "      <td>/work/alex/data/DL_perf/json</td>\n",
       "      <td>conv2d_1</td>\n",
       "      <td>[2048, 1, 128, 128]</td>\n",
       "      <td>4.176211</td>\n",
       "    </tr>\n",
       "    <tr>\n",
       "      <th>14</th>\n",
       "      <td>8</td>\n",
       "      <td>134217728</td>\n",
       "      <td>1.0</td>\n",
       "      <td>Intel(R) Xeon(R) CPU E5-2650 v3 @ 2.30GHz</td>\n",
       "      <td>40</td>\n",
       "      <td>P100-PCIE</td>\n",
       "      <td>theano</td>\n",
       "      <td>Keras-2.0.3/theano_0.9.0</td>\n",
       "      <td>Tesla P100-PCIE-16GB</td>\n",
       "      <td>[1]</td>\n",
       "      <td>roma4.m.gsic.titech.ac.jp</td>\n",
       "      <td>roma4</td>\n",
       "      <td>Linux-3.10.0-514.16.1.el7.x86_64-x86_64-with-c...</td>\n",
       "      <td>1</td>\n",
       "      <td>./</td>\n",
       "      <td>conv2d_1</td>\n",
       "      <td>[2048, 1, 128, 128]</td>\n",
       "      <td>0.450851</td>\n",
       "    </tr>\n",
       "    <tr>\n",
       "      <th>15</th>\n",
       "      <td>8</td>\n",
       "      <td>134217728</td>\n",
       "      <td>1.0</td>\n",
       "      <td>Intel(R) Xeon(R) CPU E5-2650 v3 @ 2.30GHz</td>\n",
       "      <td>40</td>\n",
       "      <td>P100-PCIE</td>\n",
       "      <td>theano</td>\n",
       "      <td>Keras-2.0.4/theano_0.9.0</td>\n",
       "      <td>Tesla P100-PCIE-16GB</td>\n",
       "      <td>[1]</td>\n",
       "      <td>roma4.m.gsic.titech.ac.jp</td>\n",
       "      <td>roma4</td>\n",
       "      <td>Linux-3.10.0-514.16.1.el7.x86_64-x86_64-with-c...</td>\n",
       "      <td>1</td>\n",
       "      <td>./</td>\n",
       "      <td>conv2d_1</td>\n",
       "      <td>[2048, 1, 128, 128]</td>\n",
       "      <td>0.455705</td>\n",
       "    </tr>\n",
       "    <tr>\n",
       "      <th>16</th>\n",
       "      <td>8</td>\n",
       "      <td>134217728</td>\n",
       "      <td>NaN</td>\n",
       "      <td>Intel(R) Xeon(R) CPU E5-2699 v3 @ 2.30GHz</td>\n",
       "      <td>36</td>\n",
       "      <td>E5-2699</td>\n",
       "      <td>chainer</td>\n",
       "      <td>Chainer-2.0.0a1</td>\n",
       "      <td>Tesla K40c</td>\n",
       "      <td>NaN</td>\n",
       "      <td>paris0.m.gsic.titech.ac.jp</td>\n",
       "      <td>paris0</td>\n",
       "      <td>Linux-3.10.0-327.36.2.el7.x86_64-x86_64-with-c...</td>\n",
       "      <td>0</td>\n",
       "      <td>/work/alex/data/DL_perf/json</td>\n",
       "      <td>conv2d_1</td>\n",
       "      <td>[2048, 1, 128, 128]</td>\n",
       "      <td>77.309290</td>\n",
       "    </tr>\n",
       "    <tr>\n",
       "      <th>17</th>\n",
       "      <td>8</td>\n",
       "      <td>134217728</td>\n",
       "      <td>NaN</td>\n",
       "      <td>Intel(R) Xeon(R) CPU E5-2699 v3 @ 2.30GHz</td>\n",
       "      <td>36</td>\n",
       "      <td>E5-2699</td>\n",
       "      <td>chainer</td>\n",
       "      <td>Chainer-2.0.0a1</td>\n",
       "      <td>Tesla K40c</td>\n",
       "      <td>NaN</td>\n",
       "      <td>paris1.m.gsic.titech.ac.jp</td>\n",
       "      <td>paris1</td>\n",
       "      <td>Linux-3.10.0-327.36.1.el7.x86_64-x86_64-with-c...</td>\n",
       "      <td>0</td>\n",
       "      <td>/work/alex/data/DL_perf/json</td>\n",
       "      <td>conv3d_1</td>\n",
       "      <td>[1024, 1, 32, 32, 32]</td>\n",
       "      <td>123.460109</td>\n",
       "    </tr>\n",
       "    <tr>\n",
       "      <th>18</th>\n",
       "      <td>8</td>\n",
       "      <td>134217728</td>\n",
       "      <td>NaN</td>\n",
       "      <td>Intel(R) Xeon(R) CPU E5-2650 v3 @ 2.30GHz</td>\n",
       "      <td>40</td>\n",
       "      <td>P100-PCIE</td>\n",
       "      <td>chainer</td>\n",
       "      <td>Chainer-2.0.0a1</td>\n",
       "      <td>Tesla P100-PCIE-16GB</td>\n",
       "      <td>[1]</td>\n",
       "      <td>roma4.m.gsic.titech.ac.jp</td>\n",
       "      <td>roma4</td>\n",
       "      <td>Linux-3.10.0-514.16.1.el7.x86_64-x86_64-with-c...</td>\n",
       "      <td>1</td>\n",
       "      <td>./</td>\n",
       "      <td>conv2d_1</td>\n",
       "      <td>[2048, 1, 128, 128]</td>\n",
       "      <td>2.340346</td>\n",
       "    </tr>\n",
       "    <tr>\n",
       "      <th>19</th>\n",
       "      <td>8</td>\n",
       "      <td>134217728</td>\n",
       "      <td>NaN</td>\n",
       "      <td>Intel(R) Xeon(R) CPU E5-2650 v3 @ 2.30GHz</td>\n",
       "      <td>40</td>\n",
       "      <td>P100-PCIE</td>\n",
       "      <td>chainer</td>\n",
       "      <td>Chainer-2.0.0a1</td>\n",
       "      <td>Tesla P100-PCIE-16GB</td>\n",
       "      <td>[1]</td>\n",
       "      <td>roma4.m.gsic.titech.ac.jp</td>\n",
       "      <td>roma4</td>\n",
       "      <td>Linux-3.10.0-514.16.1.el7.x86_64-x86_64-with-c...</td>\n",
       "      <td>1</td>\n",
       "      <td>./</td>\n",
       "      <td>conv2d_2</td>\n",
       "      <td>[2048, 1, 128, 128]</td>\n",
       "      <td>4.893002</td>\n",
       "    </tr>\n",
       "    <tr>\n",
       "      <th>20</th>\n",
       "      <td>8</td>\n",
       "      <td>134217728</td>\n",
       "      <td>NaN</td>\n",
       "      <td>Intel(R) Xeon(R) CPU E5-2650 v3 @ 2.30GHz</td>\n",
       "      <td>40</td>\n",
       "      <td>P100-PCIE</td>\n",
       "      <td>chainer</td>\n",
       "      <td>Chainer-2.0.0a1</td>\n",
       "      <td>Tesla P100-PCIE-16GB</td>\n",
       "      <td>NaN</td>\n",
       "      <td>roma5.m.gsic.titech.ac.jp</td>\n",
       "      <td>roma5</td>\n",
       "      <td>Linux-3.10.0-327.18.2.el7.x86_64-x86_64-with-c...</td>\n",
       "      <td>1</td>\n",
       "      <td>/work/alex/data/DL_perf/json</td>\n",
       "      <td>conv2d_1</td>\n",
       "      <td>[2048, 1, 128, 128]</td>\n",
       "      <td>3.234017</td>\n",
       "    </tr>\n",
       "    <tr>\n",
       "      <th>21</th>\n",
       "      <td>8</td>\n",
       "      <td>134217728</td>\n",
       "      <td>NaN</td>\n",
       "      <td>Intel(R) Xeon(R) CPU E5-2699 v3 @ 2.30GHz</td>\n",
       "      <td>36</td>\n",
       "      <td>E5-2699</td>\n",
       "      <td>theano</td>\n",
       "      <td>Keras-2.0.3/theano_0.9.0</td>\n",
       "      <td>Tesla K40c</td>\n",
       "      <td>NaN</td>\n",
       "      <td>paris0.m.gsic.titech.ac.jp</td>\n",
       "      <td>paris0</td>\n",
       "      <td>Linux-3.10.0-327.36.2.el7.x86_64-x86_64-with-c...</td>\n",
       "      <td>0</td>\n",
       "      <td>/work/alex/data/DL_perf/json</td>\n",
       "      <td>conv3d_1</td>\n",
       "      <td>[1024, 1, 32, 32, 32]</td>\n",
       "      <td>12.665777</td>\n",
       "    </tr>\n",
       "    <tr>\n",
       "      <th>22</th>\n",
       "      <td>8</td>\n",
       "      <td>134217728</td>\n",
       "      <td>1.0</td>\n",
       "      <td>Intel(R) Xeon(R) CPU E5-2650 v3 @ 2.30GHz</td>\n",
       "      <td>40</td>\n",
       "      <td>P100-PCIE</td>\n",
       "      <td>theano</td>\n",
       "      <td>Keras-2.0.3/theano_0.9.0</td>\n",
       "      <td>Tesla P100-PCIE-16GB</td>\n",
       "      <td>[1]</td>\n",
       "      <td>roma4.m.gsic.titech.ac.jp</td>\n",
       "      <td>roma4</td>\n",
       "      <td>Linux-3.10.0-514.16.1.el7.x86_64-x86_64-with-c...</td>\n",
       "      <td>1</td>\n",
       "      <td>./</td>\n",
       "      <td>conv2d_1</td>\n",
       "      <td>[2048, 1, 128, 128]</td>\n",
       "      <td>0.444422</td>\n",
       "    </tr>\n",
       "    <tr>\n",
       "      <th>23</th>\n",
       "      <td>8</td>\n",
       "      <td>134217728</td>\n",
       "      <td>NaN</td>\n",
       "      <td>Intel(R) Xeon(R) CPU E5-2650 v3 @ 2.30GHz</td>\n",
       "      <td>40</td>\n",
       "      <td>P100-PCIE</td>\n",
       "      <td>chainer</td>\n",
       "      <td>Chainer-2.0.0a1</td>\n",
       "      <td>Tesla P100-PCIE-16GB</td>\n",
       "      <td>NaN</td>\n",
       "      <td>roma5.m.gsic.titech.ac.jp</td>\n",
       "      <td>roma5</td>\n",
       "      <td>Linux-3.10.0-327.18.2.el7.x86_64-x86_64-with-c...</td>\n",
       "      <td>1</td>\n",
       "      <td>/work/alex/data/DL_perf/json</td>\n",
       "      <td>conv2d_1</td>\n",
       "      <td>[2048, 1, 128, 128]</td>\n",
       "      <td>3.274085</td>\n",
       "    </tr>\n",
       "  </tbody>\n",
       "</table>\n",
       "</div>"
      ],
      "text/plain": [
       "    batch_size  bytes_x_train  cnt_classes  \\\n",
       "0            8      134217728          NaN   \n",
       "1            8      134217728          1.0   \n",
       "2            8      134217728          NaN   \n",
       "3            8      134217728          1.0   \n",
       "4          512      456649800         57.0   \n",
       "5            8      134217728          NaN   \n",
       "6            8      134217728          1.0   \n",
       "7            8      134217728          1.0   \n",
       "8            8      134217728          NaN   \n",
       "9          512      456649800         57.0   \n",
       "10         512      456649800         57.0   \n",
       "11           8      134217728          1.0   \n",
       "12           8      134217728          NaN   \n",
       "13           8      134217728          NaN   \n",
       "14           8      134217728          1.0   \n",
       "15           8      134217728          1.0   \n",
       "16           8      134217728          NaN   \n",
       "17           8      134217728          NaN   \n",
       "18           8      134217728          NaN   \n",
       "19           8      134217728          NaN   \n",
       "20           8      134217728          NaN   \n",
       "21           8      134217728          NaN   \n",
       "22           8      134217728          1.0   \n",
       "23           8      134217728          NaN   \n",
       "\n",
       "                                    cpu_brand  cpu_count     device  \\\n",
       "0   Intel(R) Xeon(R) CPU E5-2650 v3 @ 2.30GHz         40  P100-PCIE   \n",
       "1   Intel(R) Xeon(R) CPU E5-2650 v3 @ 2.30GHz         40  P100-PCIE   \n",
       "2   Intel(R) Xeon(R) CPU E5-2650 v3 @ 2.30GHz         40  P100-PCIE   \n",
       "3   Intel(R) Xeon(R) CPU E5-2650 v3 @ 2.30GHz         40  P100-PCIE   \n",
       "4   Intel(R) Xeon(R) CPU E5-2650 v3 @ 2.30GHz         40  P100-PCIE   \n",
       "5   Intel(R) Xeon(R) CPU E5-2699 v3 @ 2.30GHz         36    E5-2699   \n",
       "6   Intel(R) Xeon(R) CPU E5-2650 v3 @ 2.30GHz         40  P100-PCIE   \n",
       "7   Intel(R) Xeon(R) CPU E5-2650 v3 @ 2.30GHz         40  P100-PCIE   \n",
       "8   Intel(R) Xeon(R) CPU E5-2699 v3 @ 2.30GHz         36    E5-2699   \n",
       "9   Intel(R) Xeon(R) CPU E5-2650 v3 @ 2.30GHz         40  P100-PCIE   \n",
       "10  Intel(R) Xeon(R) CPU E5-2650 v3 @ 2.30GHz         40  P100-PCIE   \n",
       "11  Intel(R) Xeon(R) CPU E5-2650 v3 @ 2.30GHz         40  P100-PCIE   \n",
       "12  Intel(R) Xeon(R) CPU E5-2699 v3 @ 2.30GHz         36    E5-2699   \n",
       "13  Intel(R) Xeon(R) CPU E5-2699 v3 @ 2.30GHz         36    E5-2699   \n",
       "14  Intel(R) Xeon(R) CPU E5-2650 v3 @ 2.30GHz         40  P100-PCIE   \n",
       "15  Intel(R) Xeon(R) CPU E5-2650 v3 @ 2.30GHz         40  P100-PCIE   \n",
       "16  Intel(R) Xeon(R) CPU E5-2699 v3 @ 2.30GHz         36    E5-2699   \n",
       "17  Intel(R) Xeon(R) CPU E5-2699 v3 @ 2.30GHz         36    E5-2699   \n",
       "18  Intel(R) Xeon(R) CPU E5-2650 v3 @ 2.30GHz         40  P100-PCIE   \n",
       "19  Intel(R) Xeon(R) CPU E5-2650 v3 @ 2.30GHz         40  P100-PCIE   \n",
       "20  Intel(R) Xeon(R) CPU E5-2650 v3 @ 2.30GHz         40  P100-PCIE   \n",
       "21  Intel(R) Xeon(R) CPU E5-2699 v3 @ 2.30GHz         36    E5-2699   \n",
       "22  Intel(R) Xeon(R) CPU E5-2650 v3 @ 2.30GHz         40  P100-PCIE   \n",
       "23  Intel(R) Xeon(R) CPU E5-2650 v3 @ 2.30GHz         40  P100-PCIE   \n",
       "\n",
       "     framework                    framework_full                   gpu gpus  \\\n",
       "0      chainer                   Chainer-2.0.0a1  Tesla P100-PCIE-16GB  [1]   \n",
       "1   tensorflow  Keras-2.0.4/tensorflow_1.1.0-rc1  Tesla P100-PCIE-16GB  [1]   \n",
       "2        mxnet                       MXNet-0.9.3  Tesla P100-PCIE-16GB  [1]   \n",
       "3       theano          Keras-2.0.3/theano_0.9.0  Tesla P100-PCIE-16GB  [1]   \n",
       "4   tensorflow  Keras-2.0.3/tensorflow_1.1.0-rc1  Tesla P100-PCIE-16GB  [1]   \n",
       "5   tensorflow  Keras-2.0.3/tensorflow_1.1.0-rc1            Tesla K40c  NaN   \n",
       "6       theano          Keras-2.0.4/theano_0.9.0  Tesla P100-PCIE-16GB  [1]   \n",
       "7   tensorflow  Keras-2.0.4/tensorflow_1.1.0-rc1  Tesla P100-PCIE-16GB  [1]   \n",
       "8   tensorflow  Keras-2.0.3/tensorflow_1.1.0-rc1            Tesla K40c  NaN   \n",
       "9       theano          Keras-2.0.3/theano_0.9.0  Tesla P100-PCIE-16GB  [1]   \n",
       "10      theano          Keras-2.0.3/theano_0.9.0  Tesla P100-PCIE-16GB  [1]   \n",
       "11      theano          Keras-2.0.3/theano_0.9.0  Tesla P100-PCIE-16GB  [1]   \n",
       "12      theano          Keras-2.0.3/theano_0.9.0            Tesla K40c  NaN   \n",
       "13      theano          Keras-2.0.3/theano_0.9.0            Tesla K40c  NaN   \n",
       "14      theano          Keras-2.0.3/theano_0.9.0  Tesla P100-PCIE-16GB  [1]   \n",
       "15      theano          Keras-2.0.4/theano_0.9.0  Tesla P100-PCIE-16GB  [1]   \n",
       "16     chainer                   Chainer-2.0.0a1            Tesla K40c  NaN   \n",
       "17     chainer                   Chainer-2.0.0a1            Tesla K40c  NaN   \n",
       "18     chainer                   Chainer-2.0.0a1  Tesla P100-PCIE-16GB  [1]   \n",
       "19     chainer                   Chainer-2.0.0a1  Tesla P100-PCIE-16GB  [1]   \n",
       "20     chainer                   Chainer-2.0.0a1  Tesla P100-PCIE-16GB  NaN   \n",
       "21      theano          Keras-2.0.3/theano_0.9.0            Tesla K40c  NaN   \n",
       "22      theano          Keras-2.0.3/theano_0.9.0  Tesla P100-PCIE-16GB  [1]   \n",
       "23     chainer                   Chainer-2.0.0a1  Tesla P100-PCIE-16GB  NaN   \n",
       "\n",
       "                      hostname hostname_short  \\\n",
       "0    roma4.m.gsic.titech.ac.jp          roma4   \n",
       "1    roma4.m.gsic.titech.ac.jp          roma4   \n",
       "2    roma4.m.gsic.titech.ac.jp          roma4   \n",
       "3    roma4.m.gsic.titech.ac.jp          roma4   \n",
       "4    roma4.m.gsic.titech.ac.jp          roma4   \n",
       "5   paris0.m.gsic.titech.ac.jp         paris0   \n",
       "6    roma4.m.gsic.titech.ac.jp          roma4   \n",
       "7    roma4.m.gsic.titech.ac.jp          roma4   \n",
       "8   paris0.m.gsic.titech.ac.jp         paris0   \n",
       "9    roma4.m.gsic.titech.ac.jp          roma4   \n",
       "10   roma4.m.gsic.titech.ac.jp          roma4   \n",
       "11   roma4.m.gsic.titech.ac.jp          roma4   \n",
       "12  paris1.m.gsic.titech.ac.jp         paris1   \n",
       "13  paris0.m.gsic.titech.ac.jp         paris0   \n",
       "14   roma4.m.gsic.titech.ac.jp          roma4   \n",
       "15   roma4.m.gsic.titech.ac.jp          roma4   \n",
       "16  paris0.m.gsic.titech.ac.jp         paris0   \n",
       "17  paris1.m.gsic.titech.ac.jp         paris1   \n",
       "18   roma4.m.gsic.titech.ac.jp          roma4   \n",
       "19   roma4.m.gsic.titech.ac.jp          roma4   \n",
       "20   roma5.m.gsic.titech.ac.jp          roma5   \n",
       "21  paris0.m.gsic.titech.ac.jp         paris0   \n",
       "22   roma4.m.gsic.titech.ac.jp          roma4   \n",
       "23   roma5.m.gsic.titech.ac.jp          roma5   \n",
       "\n",
       "                                                linux  nb_gpus  \\\n",
       "0   Linux-3.10.0-514.16.1.el7.x86_64-x86_64-with-c...        1   \n",
       "1   Linux-3.10.0-514.16.1.el7.x86_64-x86_64-with-c...        1   \n",
       "2   Linux-3.10.0-514.16.1.el7.x86_64-x86_64-with-c...        1   \n",
       "3   Linux-3.10.0-514.16.1.el7.x86_64-x86_64-with-c...        1   \n",
       "4   Linux-3.10.0-514.16.1.el7.x86_64-x86_64-with-c...        1   \n",
       "5   Linux-3.10.0-327.36.2.el7.x86_64-x86_64-with-c...        0   \n",
       "6   Linux-3.10.0-514.16.1.el7.x86_64-x86_64-with-c...        1   \n",
       "7   Linux-3.10.0-514.16.1.el7.x86_64-x86_64-with-c...        1   \n",
       "8   Linux-3.10.0-327.36.2.el7.x86_64-x86_64-with-c...        0   \n",
       "9   Linux-3.10.0-514.16.1.el7.x86_64-x86_64-with-c...        1   \n",
       "10  Linux-3.10.0-514.16.1.el7.x86_64-x86_64-with-c...        1   \n",
       "11  Linux-3.10.0-514.16.1.el7.x86_64-x86_64-with-c...        1   \n",
       "12  Linux-3.10.0-327.36.1.el7.x86_64-x86_64-with-c...        0   \n",
       "13  Linux-3.10.0-327.36.2.el7.x86_64-x86_64-with-c...        0   \n",
       "14  Linux-3.10.0-514.16.1.el7.x86_64-x86_64-with-c...        1   \n",
       "15  Linux-3.10.0-514.16.1.el7.x86_64-x86_64-with-c...        1   \n",
       "16  Linux-3.10.0-327.36.2.el7.x86_64-x86_64-with-c...        0   \n",
       "17  Linux-3.10.0-327.36.1.el7.x86_64-x86_64-with-c...        0   \n",
       "18  Linux-3.10.0-514.16.1.el7.x86_64-x86_64-with-c...        1   \n",
       "19  Linux-3.10.0-514.16.1.el7.x86_64-x86_64-with-c...        1   \n",
       "20  Linux-3.10.0-327.18.2.el7.x86_64-x86_64-with-c...        1   \n",
       "21  Linux-3.10.0-327.36.2.el7.x86_64-x86_64-with-c...        0   \n",
       "22  Linux-3.10.0-514.16.1.el7.x86_64-x86_64-with-c...        1   \n",
       "23  Linux-3.10.0-327.18.2.el7.x86_64-x86_64-with-c...        1   \n",
       "\n",
       "                        path_out     problem          shape_x_train  \\\n",
       "0                             ./    conv2d_1    [2048, 1, 128, 128]   \n",
       "1                             ./    conv2d_2    [2048, 1, 128, 128]   \n",
       "2                             ./    conv2d_1    [2048, 1, 128, 128]   \n",
       "3                             ./    conv2d_2    [2048, 1, 128, 128]   \n",
       "4                             ./  lstm_char1       [200285, 40, 57]   \n",
       "5   /work/alex/data/DL_perf/json    conv2d_1    [2048, 1, 128, 128]   \n",
       "6                             ./    conv2d_2    [2048, 1, 128, 128]   \n",
       "7                             ./    conv2d_1    [2048, 1, 128, 128]   \n",
       "8   /work/alex/data/DL_perf/json    conv3d_1  [1024, 1, 32, 32, 32]   \n",
       "9                             ./  lstm_char1       [200285, 40, 57]   \n",
       "10                            ./  lstm_char1       [200285, 40, 57]   \n",
       "11                            ./    conv3d_1  [1024, 1, 32, 32, 32]   \n",
       "12  /work/alex/data/DL_perf/json    conv3d_1  [1024, 1, 32, 32, 32]   \n",
       "13  /work/alex/data/DL_perf/json    conv2d_1    [2048, 1, 128, 128]   \n",
       "14                            ./    conv2d_1    [2048, 1, 128, 128]   \n",
       "15                            ./    conv2d_1    [2048, 1, 128, 128]   \n",
       "16  /work/alex/data/DL_perf/json    conv2d_1    [2048, 1, 128, 128]   \n",
       "17  /work/alex/data/DL_perf/json    conv3d_1  [1024, 1, 32, 32, 32]   \n",
       "18                            ./    conv2d_1    [2048, 1, 128, 128]   \n",
       "19                            ./    conv2d_2    [2048, 1, 128, 128]   \n",
       "20  /work/alex/data/DL_perf/json    conv2d_1    [2048, 1, 128, 128]   \n",
       "21  /work/alex/data/DL_perf/json    conv3d_1  [1024, 1, 32, 32, 32]   \n",
       "22                            ./    conv2d_1    [2048, 1, 128, 128]   \n",
       "23  /work/alex/data/DL_perf/json    conv2d_1    [2048, 1, 128, 128]   \n",
       "\n",
       "          time  \n",
       "0     2.866930  \n",
       "1    20.935622  \n",
       "2     1.267838  \n",
       "3     6.287895  \n",
       "4    38.029440  \n",
       "5     0.874078  \n",
       "6     6.281071  \n",
       "7     1.711512  \n",
       "8     8.861501  \n",
       "9    29.548766  \n",
       "10   28.763147  \n",
       "11    1.103491  \n",
       "12   12.678342  \n",
       "13    4.176211  \n",
       "14    0.450851  \n",
       "15    0.455705  \n",
       "16   77.309290  \n",
       "17  123.460109  \n",
       "18    2.340346  \n",
       "19    4.893002  \n",
       "20    3.234017  \n",
       "21   12.665777  \n",
       "22    0.444422  \n",
       "23    3.274085  "
      ]
     },
     "execution_count": 159,
     "metadata": {},
     "output_type": "execute_result"
    }
   ],
   "source": [
    "df"
   ]
  },
  {
   "cell_type": "code",
   "execution_count": null,
   "metadata": {},
   "outputs": [],
   "source": []
  },
  {
   "cell_type": "code",
   "execution_count": 160,
   "metadata": {
    "collapsed": true
   },
   "outputs": [],
   "source": [
    "#df.sort_values(by=[\"device\",\"framework\"],inplace=True)\n",
    "#df.sort_values(by=[\"time\"],inplace=True)"
   ]
  },
  {
   "cell_type": "code",
   "execution_count": 161,
   "metadata": {},
   "outputs": [
    {
     "name": "stdout",
     "output_type": "stream",
     "text": [
      "['P100-PCIE' 'E5-2699']\n"
     ]
    }
   ],
   "source": [
    "#filter what to plot\n",
    "devices=df[\"device\"].unique()\n",
    "print(devices)\n",
    "#df"
   ]
  },
  {
   "cell_type": "code",
   "execution_count": 162,
   "metadata": {
    "collapsed": true
   },
   "outputs": [],
   "source": [
    "def filter_by(df,filters):\n",
    "    df_plot = df\n",
    "    for key in filters:\n",
    "        df_plot=df_plot[df_plot[key]==filters[key]]\n",
    "    return df_plot\n",
    "    "
   ]
  },
  {
   "cell_type": "code",
   "execution_count": 163,
   "metadata": {
    "collapsed": true
   },
   "outputs": [],
   "source": [
    "#df_filtered = filter_by(df,filters={\"device\":\"P100-PCIE\"})"
   ]
  },
  {
   "cell_type": "code",
   "execution_count": 164,
   "metadata": {
    "collapsed": true
   },
   "outputs": [],
   "source": [
    "def render(key,filters,color):\n",
    "    id_dev=0\n",
    "    df_filtered = filter_by(df,filters)\n",
    "    df_plot=df_filtered.groupby([key],as_index=False).mean()\n",
    "    if df_plot.shape[0]<1:\n",
    "        return \"nothing to plot\"\n",
    "    df_plot.reset_index()\n",
    "    df_plot.sort_values(by=[\"time\"],inplace=True, ascending=False)\n",
    "\n",
    "    mpl.rcParams['figure.figsize'] = 12, 5\n",
    "    ax = plt.subplot('111')#, facecolor='white')\n",
    "    width=0.5\n",
    "    #ax.set_ylim(0,200)\n",
    "    err = df_filtered.groupby([key]).std()[\"time\"]\n",
    "    #print (err)\n",
    "    error_config = {'ecolor': 'r'}\n",
    "    bars = plt.bar(np.arange(len(df_plot))+width/2,df_plot[\"time\"],width=width,color=color, yerr=err, error_kw=error_config)\n",
    "    autolabel(bars,ax)\n",
    "    plt.ylabel(\"epoch time, s\",size=18)\n",
    "    plt.xticks(np.arange(len(df_plot))+0.25)\n",
    "    plt.yticks(size=18)\n",
    "    \n",
    "    #ax.set_xticks(np.arange(len(labels))+(width*cnt_models)/2, minor=False)\n",
    "    #ax.set_xticklabels(df[\"device\"], minor=False,size=18,rotation=0)\n",
    "    ax.set_xticklabels(df_plot[key], minor=False,size=18,rotation=0)\n",
    "    plt.grid(b=False, which='major', axis='x', )\n",
    "\n",
    "    plt.tick_params(axis='x', which='both', bottom='off', top='off',  labelbottom='on')\n",
    "    plt.tick_params(axis='y', which='both', left='off', right='off')\n",
    "    name_out=\"\"\n",
    "    title = \"\"\n",
    "    for key in filters:\n",
    "        name_out+=filters[key]+\"_\"\n",
    "        title+=filters[key]+\"  \"\n",
    "    name_out = name_out[:-1]\n",
    "    plt.title(title[:-1])\n",
    "    print(name_out)\n",
    "    plt.savefig(os.path.join(\"./plots\",name_out+\".svg\"),bbox_inches=\"tight\",transparent=True)\n",
    "    plt.show()\n",
    "#todo: time per byte"
   ]
  },
  {
   "cell_type": "code",
   "execution_count": 165,
   "metadata": {},
   "outputs": [
    {
     "name": "stdout",
     "output_type": "stream",
     "text": [
      "conv2d_2_chainer\n"
     ]
    },
    {
     "data": {
      "image/png": "[encoded data removed]",
      "text/plain": [
       "<matplotlib.figure.Figure at 0x7fa3154ccb00>"
      ]
     },
     "metadata": {},
     "output_type": "display_data"
    }
   ],
   "source": [
    "#render(key=\"framework\",filters={\"device\":\"P100-PCIE\",\"problem\":\"conv2d_1\"},color=\"yellowgreen\")\n",
    "\n",
    "render(key=\"device\",filters={\"framework\":\"chainer\",\"problem\":\"conv2d_2\"},color=\"yellowgreen\")"
   ]
  },
  {
   "cell_type": "code",
   "execution_count": 166,
   "metadata": {},
   "outputs": [
    {
     "name": "stdout",
     "output_type": "stream",
     "text": [
      "conv2d_1_P100-PCIE\n"
     ]
    },
    {
     "data": {
      "image/png": "[encoded data removed]",
      "text/plain": [
       "<matplotlib.figure.Figure at 0x7fa3153e7e10>"
      ]
     },
     "metadata": {},
     "output_type": "display_data"
    },
    {
     "name": "stdout",
     "output_type": "stream",
     "text": [
      "conv2d_2_P100-PCIE\n"
     ]
    },
    {
     "data": {
      "image/png": "[encoded data removed]",
      "text/plain": [
       "<matplotlib.figure.Figure at 0x7fa3153e7eb8>"
      ]
     },
     "metadata": {},
     "output_type": "display_data"
    },
    {
     "name": "stdout",
     "output_type": "stream",
     "text": [
      "lstm_char1_P100-PCIE\n"
     ]
    },
    {
     "data": {
      "image/png": "[encoded data removed]",
      "text/plain": [
       "<matplotlib.figure.Figure at 0x7fa315395c50>"
      ]
     },
     "metadata": {},
     "output_type": "display_data"
    },
    {
     "name": "stdout",
     "output_type": "stream",
     "text": [
      "conv3d_1_P100-PCIE\n"
     ]
    },
    {
     "data": {
      "image/png": "[encoded data removed]",
      "text/plain": [
       "<matplotlib.figure.Figure at 0x7fa31d78f898>"
      ]
     },
     "metadata": {},
     "output_type": "display_data"
    }
   ],
   "source": [
    "#    color=[\"dodgerblue\",\"yellowgreen\"][id_dev]\n",
    "for problem in df[\"problem\"].unique():\n",
    "    #render(key=\"framework\",filters={\"device\":\"E5-2699\",\"problem\":problem},color=\"dodgerblue\")\n",
    "    render(key=\"framework\",filters={\"device\":\"P100-PCIE\",\"problem\":problem},color=\"yellowgreen\")\n",
    "\n"
   ]
  },
  {
   "cell_type": "code",
   "execution_count": 167,
   "metadata": {},
   "outputs": [
    {
     "name": "stdout",
     "output_type": "stream",
     "text": [
      "conv2d_1_chainer\n"
     ]
    },
    {
     "data": {
      "image/png": "[encoded data removed]",
      "text/plain": [
       "<matplotlib.figure.Figure at 0x7fa3151d8b38>"
      ]
     },
     "metadata": {},
     "output_type": "display_data"
    },
    {
     "name": "stdout",
     "output_type": "stream",
     "text": [
      "conv2d_2_chainer\n"
     ]
    },
    {
     "data": {
      "image/png": "[encoded data removed]",
      "text/plain": [
       "<matplotlib.figure.Figure at 0x7fa315345048>"
      ]
     },
     "metadata": {},
     "output_type": "display_data"
    },
    {
     "name": "stdout",
     "output_type": "stream",
     "text": [
      "conv3d_1_chainer\n"
     ]
    },
    {
     "data": {
      "image/png": "[encoded data removed]",
      "text/plain": [
       "<matplotlib.figure.Figure at 0x7fa315399e48>"
      ]
     },
     "metadata": {},
     "output_type": "display_data"
    }
   ],
   "source": [
    "for problem in df[\"problem\"].unique():\n",
    "    render(key=\"device\",filters={\"problem\":problem,\"framework\":\"chainer\"},color=\"yellowgreen\")"
   ]
  },
  {
   "cell_type": "code",
   "execution_count": null,
   "metadata": {
    "collapsed": true
   },
   "outputs": [],
   "source": []
  },
  {
   "cell_type": "code",
   "execution_count": null,
   "metadata": {
    "collapsed": true
   },
   "outputs": [],
   "source": []
  },
  {
   "cell_type": "code",
   "execution_count": null,
   "metadata": {
    "collapsed": true
   },
   "outputs": [],
   "source": []
  },
  {
   "cell_type": "code",
   "execution_count": null,
   "metadata": {
    "collapsed": true
   },
   "outputs": [],
   "source": []
  },
  {
   "cell_type": "code",
   "execution_count": null,
   "metadata": {
    "collapsed": true
   },
   "outputs": [],
   "source": []
  },
  {
   "cell_type": "code",
   "execution_count": null,
   "metadata": {
    "collapsed": true
   },
   "outputs": [],
   "source": []
  },
  {
   "cell_type": "code",
   "execution_count": null,
   "metadata": {
    "collapsed": true
   },
   "outputs": [],
   "source": []
  },
  {
   "cell_type": "code",
   "execution_count": null,
   "metadata": {
    "collapsed": true
   },
   "outputs": [],
   "source": []
  },
  {
   "cell_type": "code",
   "execution_count": null,
   "metadata": {
    "collapsed": true
   },
   "outputs": [],
   "source": []
  },
  {
   "cell_type": "code",
   "execution_count": null,
   "metadata": {
    "collapsed": true
   },
   "outputs": [],
   "source": []
  },
  {
   "cell_type": "code",
   "execution_count": null,
   "metadata": {
    "collapsed": true
   },
   "outputs": [],
   "source": []
  },
  {
   "cell_type": "code",
   "execution_count": null,
   "metadata": {
    "collapsed": true
   },
   "outputs": [],
   "source": []
  },
  {
   "cell_type": "code",
   "execution_count": null,
   "metadata": {
    "collapsed": true
   },
   "outputs": [],
   "source": []
  },
  {
   "cell_type": "code",
   "execution_count": null,
   "metadata": {
    "collapsed": true
   },
   "outputs": [],
   "source": []
  },
  {
   "cell_type": "code",
   "execution_count": null,
   "metadata": {
    "collapsed": true
   },
   "outputs": [],
   "source": []
  },
  {
   "cell_type": "code",
   "execution_count": null,
   "metadata": {
    "collapsed": true
   },
   "outputs": [],
   "source": []
  }
 ],
 "metadata": {
  "kernelspec": {
   "display_name": "Python 3",
   "language": "python",
   "name": "python3"
  },
  "language_info": {
   "codemirror_mode": {
    "name": "ipython",
    "version": 3
   },
   "file_extension": ".py",
   "mimetype": "text/x-python",
   "name": "python",
   "nbconvert_exporter": "python",
   "pygments_lexer": "ipython3",
   "version": "3.5.2"
  }
 },
 "nbformat": 4,
 "nbformat_minor": 2
}
