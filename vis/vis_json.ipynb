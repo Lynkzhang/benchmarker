{
 "cells": [
  {
   "cell_type": "code",
   "execution_count": 6,
   "metadata": {
    "collapsed": true
   },
   "outputs": [],
   "source": [
    "import pandas\n",
    "import json\n",
    "import matplotlib as mpl\n",
    "from matplotlib import pyplot as plt\n",
    "import numpy as np\n",
    "import os\n",
    "import sys\n",
    "%matplotlib inline\n",
    "plt.style.use('bmh')\n",
    "plt.style.use('dark_background')\n",
    "#sys.path.append(\"./../sysinfo\")\n",
    "#from cute_device import get_cute_device_str\n",
    "from helpers import read_df_from_dir"
   ]
  },
  {
   "cell_type": "code",
   "execution_count": 16,
   "metadata": {
    "collapsed": true
   },
   "outputs": [],
   "source": [
    "#path=\"/work/alex/data/DL_perf/json/\"\n",
    "path=\"../logs/scaling/\""
   ]
  },
  {
   "cell_type": "code",
   "execution_count": 17,
   "metadata": {
    "collapsed": true
   },
   "outputs": [],
   "source": [
    "def autolabel(rects,ax):\n",
    "    \"\"\"\n",
    "    Attach a text label above each bar displaying its height\n",
    "    \"\"\"\n",
    "    max_height=200\n",
    "    for rect in rects:\n",
    "        height = rect.get_height()\n",
    "        if height<15:\n",
    "            ax.text(rect.get_x() + rect.get_width()/2., 1.05*height, '{:.2f}'.format(height), ha='center', va='bottom', fontsize=14)\n",
    "        if height>max_height:\n",
    "            ax.text(rect.get_x() + rect.get_width()/2., 1.05*max_height, '{:.2f}'.format(height), ha='center', va='bottom', fontsize=14, color=\"red\")"
   ]
  },
  {
   "cell_type": "code",
   "execution_count": 18,
   "metadata": {},
   "outputs": [],
   "source": [
    "def read_file(filename):\n",
    "    with open(filename) as f:\n",
    "        data = json.load(f)\n",
    "    return data\n",
    "data=read_file(\"../logs/scaling/conv2d_2_chainer_GeForce GTX 980 Ti_17.06.10_17.33.42.json\")"
   ]
  },
  {
   "cell_type": "code",
   "execution_count": 27,
   "metadata": {},
   "outputs": [
    {
     "data": {
      "text/plain": [
       "['conv2d_2_chainer_GeForce GTX 980 Ti_17.06.10_17.35.03.json',\n",
       " 'conv2d_2_chainer_GeForce GTX 980 Ti_17.06.10_17.34.18.json',\n",
       " 'conv2d_2_chainer_GeForce GTX 980 Ti_17.06.10_17.33.42.json']"
      ]
     },
     "execution_count": 27,
     "metadata": {},
     "output_type": "execute_result"
    }
   ],
   "source": [
    "data = [f for f in os.listdir(path) if os.path.isfile(os.path.join(path,f)) and not f.startswith(\"arch\") ]\n",
    "#df = pandas.DataFrame(data)\n",
    "#df\n",
    "data"
   ]
  },
  {
   "cell_type": "code",
   "execution_count": 25,
   "metadata": {},
   "outputs": [
    {
     "ename": "NameError",
     "evalue": "name 'pandas' is not defined",
     "output_type": "error",
     "traceback": [
      "\u001b[0;31m---------------------------------------------------------------------------\u001b[0m",
      "\u001b[0;31mNameError\u001b[0m                                 Traceback (most recent call last)",
      "\u001b[0;32m<ipython-input-25-21a588de0469>\u001b[0m in \u001b[0;36m<module>\u001b[0;34m()\u001b[0m\n\u001b[0;32m----> 1\u001b[0;31m \u001b[0mdf\u001b[0m \u001b[0;34m=\u001b[0m \u001b[0mread_df_from_dir\u001b[0m\u001b[0;34m(\u001b[0m\u001b[0mpath\u001b[0m\u001b[0;34m)\u001b[0m\u001b[0;34m\u001b[0m\u001b[0m\n\u001b[0m",
      "\u001b[0;32m/home/blackbird/Projects/AI and Machine Learning/Performance/benchmarker/vis/helpers.py\u001b[0m in \u001b[0;36mread_df_from_dir\u001b[0;34m(path)\u001b[0m\n\u001b[1;32m     14\u001b[0m \u001b[0;34m\u001b[0m\u001b[0m\n\u001b[1;32m     15\u001b[0m \u001b[0;32mdef\u001b[0m \u001b[0mread_df_from_dir\u001b[0m\u001b[0;34m(\u001b[0m\u001b[0mpath\u001b[0m\u001b[0;34m)\u001b[0m\u001b[0;34m:\u001b[0m\u001b[0;34m\u001b[0m\u001b[0m\n\u001b[0;32m---> 16\u001b[0;31m     \u001b[0mdata\u001b[0m \u001b[0;34m=\u001b[0m \u001b[0;34m[\u001b[0m\u001b[0mread_file\u001b[0m\u001b[0;34m(\u001b[0m\u001b[0mos\u001b[0m\u001b[0;34m.\u001b[0m\u001b[0mpath\u001b[0m\u001b[0;34m.\u001b[0m\u001b[0mjoin\u001b[0m\u001b[0;34m(\u001b[0m\u001b[0mpath\u001b[0m\u001b[0;34m,\u001b[0m \u001b[0mf\u001b[0m\u001b[0;34m)\u001b[0m\u001b[0;34m)\u001b[0m \u001b[0;32mfor\u001b[0m \u001b[0mf\u001b[0m \u001b[0;32min\u001b[0m \u001b[0mos\u001b[0m\u001b[0;34m.\u001b[0m\u001b[0mlistdir\u001b[0m\u001b[0;34m(\u001b[0m\u001b[0mpath\u001b[0m\u001b[0;34m)\u001b[0m \u001b[0;32mif\u001b[0m \u001b[0;32mnot\u001b[0m \u001b[0mf\u001b[0m\u001b[0;34m.\u001b[0m\u001b[0mstartswith\u001b[0m\u001b[0;34m(\u001b[0m\u001b[0;34m\"arch\"\u001b[0m\u001b[0;34m)\u001b[0m \u001b[0;32mand\u001b[0m \u001b[0mos\u001b[0m\u001b[0;34m.\u001b[0m\u001b[0mpath\u001b[0m\u001b[0;34m.\u001b[0m\u001b[0misfile\u001b[0m\u001b[0;34m(\u001b[0m\u001b[0mf\u001b[0m\u001b[0;34m)\u001b[0m\u001b[0;34m]\u001b[0m\u001b[0;34m\u001b[0m\u001b[0m\n\u001b[0m\u001b[1;32m     17\u001b[0m     \u001b[0mdf\u001b[0m \u001b[0;34m=\u001b[0m \u001b[0mpandas\u001b[0m\u001b[0;34m.\u001b[0m\u001b[0mDataFrame\u001b[0m\u001b[0;34m(\u001b[0m\u001b[0mdata\u001b[0m\u001b[0;34m)\u001b[0m\u001b[0;34m\u001b[0m\u001b[0m\n\u001b[1;32m     18\u001b[0m     \u001b[0mdf\u001b[0m\u001b[0;34m[\u001b[0m\u001b[0;34m\"device\"\u001b[0m\u001b[0;34m]\u001b[0m \u001b[0;34m=\u001b[0m \u001b[0mdf\u001b[0m\u001b[0;34m[\u001b[0m\u001b[0;34m\"device\"\u001b[0m\u001b[0;34m]\u001b[0m\u001b[0;34m.\u001b[0m\u001b[0mapply\u001b[0m\u001b[0;34m(\u001b[0m\u001b[0mget_cute_device_str\u001b[0m\u001b[0;34m)\u001b[0m\u001b[0;34m\u001b[0m\u001b[0m\n",
      "\u001b[0;31mNameError\u001b[0m: name 'pandas' is not defined"
     ]
    }
   ],
   "source": [
    "df = read_df_from_dir(path)"
   ]
  },
  {
   "cell_type": "code",
   "execution_count": 15,
   "metadata": {},
   "outputs": [
    {
     "data": {
      "text/html": [
       "<div>\n",
       "<table border=\"1\" class=\"dataframe\">\n",
       "  <thead>\n",
       "    <tr style=\"text-align: right;\">\n",
       "      <th></th>\n",
       "      <th>batch_size</th>\n",
       "      <th>bytes_x_train</th>\n",
       "      <th>cnt_classes</th>\n",
       "      <th>cpu_brand</th>\n",
       "      <th>cpu_count</th>\n",
       "      <th>device</th>\n",
       "      <th>framework</th>\n",
       "      <th>framework_full</th>\n",
       "      <th>gpu</th>\n",
       "      <th>gpus</th>\n",
       "      <th>hostname</th>\n",
       "      <th>hostname_short</th>\n",
       "      <th>linux</th>\n",
       "      <th>nb_gpus</th>\n",
       "      <th>path_out</th>\n",
       "      <th>problem</th>\n",
       "      <th>shape_x_train</th>\n",
       "      <th>time</th>\n",
       "    </tr>\n",
       "  </thead>\n",
       "  <tbody>\n",
       "    <tr>\n",
       "      <th>0</th>\n",
       "      <td>512</td>\n",
       "      <td>456649800</td>\n",
       "      <td>57</td>\n",
       "      <td>Intel(R) Xeon(R) CPU E5-2650 v3 @ 2.30GHz</td>\n",
       "      <td>40</td>\n",
       "      <td>P100-PCIE</td>\n",
       "      <td>tensorflow</td>\n",
       "      <td>Keras-2.0.3/tensorflow_1.1.0-rc1</td>\n",
       "      <td>Tesla P100-PCIE-16GB</td>\n",
       "      <td>[1]</td>\n",
       "      <td>roma4.m.gsic.titech.ac.jp</td>\n",
       "      <td>roma4</td>\n",
       "      <td>Linux-3.10.0-514.16.1.el7.x86_64-x86_64-with-c...</td>\n",
       "      <td>1</td>\n",
       "      <td>./</td>\n",
       "      <td>lstm_char1</td>\n",
       "      <td>[200285, 40, 57]</td>\n",
       "      <td>38.029440</td>\n",
       "    </tr>\n",
       "    <tr>\n",
       "      <th>1</th>\n",
       "      <td>8</td>\n",
       "      <td>134217728</td>\n",
       "      <td>NaN</td>\n",
       "      <td>Intel(R) Xeon(R) CPU E5-2699 v3 @ 2.30GHz</td>\n",
       "      <td>36</td>\n",
       "      <td>E5-2699</td>\n",
       "      <td>theano</td>\n",
       "      <td>Keras-2.0.3/theano_0.9.0</td>\n",
       "      <td>Tesla K40c</td>\n",
       "      <td>NaN</td>\n",
       "      <td>paris0.m.gsic.titech.ac.jp</td>\n",
       "      <td>paris0</td>\n",
       "      <td>Linux-3.10.0-327.36.2.el7.x86_64-x86_64-with-c...</td>\n",
       "      <td>0</td>\n",
       "      <td>/work/alex/data/DL_perf/json</td>\n",
       "      <td>conv3d_1</td>\n",
       "      <td>[1024, 1, 32, 32, 32]</td>\n",
       "      <td>12.665777</td>\n",
       "    </tr>\n",
       "    <tr>\n",
       "      <th>2</th>\n",
       "      <td>8</td>\n",
       "      <td>134217728</td>\n",
       "      <td>1</td>\n",
       "      <td>Intel(R) Xeon(R) CPU E5-2650 v3 @ 2.30GHz</td>\n",
       "      <td>40</td>\n",
       "      <td>P100-PCIE</td>\n",
       "      <td>theano</td>\n",
       "      <td>Keras-2.0.4/theano_0.9.0</td>\n",
       "      <td>Tesla P100-PCIE-16GB</td>\n",
       "      <td>[1]</td>\n",
       "      <td>roma4.m.gsic.titech.ac.jp</td>\n",
       "      <td>roma4</td>\n",
       "      <td>Linux-3.10.0-514.16.1.el7.x86_64-x86_64-with-c...</td>\n",
       "      <td>1</td>\n",
       "      <td>./</td>\n",
       "      <td>conv2d_1</td>\n",
       "      <td>[2048, 1, 128, 128]</td>\n",
       "      <td>0.455705</td>\n",
       "    </tr>\n",
       "    <tr>\n",
       "      <th>3</th>\n",
       "      <td>8</td>\n",
       "      <td>134217728</td>\n",
       "      <td>NaN</td>\n",
       "      <td>Intel(R) Xeon(R) CPU E5-2650 v3 @ 2.30GHz</td>\n",
       "      <td>40</td>\n",
       "      <td>P100-PCIE</td>\n",
       "      <td>chainer</td>\n",
       "      <td>Chainer-2.0.0a1</td>\n",
       "      <td>Tesla P100-PCIE-16GB</td>\n",
       "      <td>[1]</td>\n",
       "      <td>roma4.m.gsic.titech.ac.jp</td>\n",
       "      <td>roma4</td>\n",
       "      <td>Linux-3.10.0-514.16.1.el7.x86_64-x86_64-with-c...</td>\n",
       "      <td>1</td>\n",
       "      <td>./</td>\n",
       "      <td>conv2d_2</td>\n",
       "      <td>[2048, 1, 128, 128]</td>\n",
       "      <td>4.893002</td>\n",
       "    </tr>\n",
       "    <tr>\n",
       "      <th>4</th>\n",
       "      <td>8</td>\n",
       "      <td>134217728</td>\n",
       "      <td>NaN</td>\n",
       "      <td>Intel(R) Xeon(R) CPU E5-2699 v3 @ 2.30GHz</td>\n",
       "      <td>36</td>\n",
       "      <td>E5-2699</td>\n",
       "      <td>chainer</td>\n",
       "      <td>Chainer-2.0.0a1</td>\n",
       "      <td>Tesla K40c</td>\n",
       "      <td>NaN</td>\n",
       "      <td>paris0.m.gsic.titech.ac.jp</td>\n",
       "      <td>paris0</td>\n",
       "      <td>Linux-3.10.0-327.36.2.el7.x86_64-x86_64-with-c...</td>\n",
       "      <td>0</td>\n",
       "      <td>/work/alex/data/DL_perf/json</td>\n",
       "      <td>conv2d_1</td>\n",
       "      <td>[2048, 1, 128, 128]</td>\n",
       "      <td>77.309290</td>\n",
       "    </tr>\n",
       "    <tr>\n",
       "      <th>5</th>\n",
       "      <td>512</td>\n",
       "      <td>456649800</td>\n",
       "      <td>57</td>\n",
       "      <td>Intel(R) Xeon(R) CPU E5-2650 v3 @ 2.30GHz</td>\n",
       "      <td>40</td>\n",
       "      <td>P100-PCIE</td>\n",
       "      <td>theano</td>\n",
       "      <td>Keras-2.0.3/theano_0.9.0</td>\n",
       "      <td>Tesla P100-PCIE-16GB</td>\n",
       "      <td>[1]</td>\n",
       "      <td>roma4.m.gsic.titech.ac.jp</td>\n",
       "      <td>roma4</td>\n",
       "      <td>Linux-3.10.0-514.16.1.el7.x86_64-x86_64-with-c...</td>\n",
       "      <td>1</td>\n",
       "      <td>./</td>\n",
       "      <td>lstm_char1</td>\n",
       "      <td>[200285, 40, 57]</td>\n",
       "      <td>29.548766</td>\n",
       "    </tr>\n",
       "    <tr>\n",
       "      <th>6</th>\n",
       "      <td>8</td>\n",
       "      <td>134217728</td>\n",
       "      <td>1</td>\n",
       "      <td>Intel(R) Xeon(R) CPU E5-2650 v3 @ 2.30GHz</td>\n",
       "      <td>40</td>\n",
       "      <td>P100-PCIE</td>\n",
       "      <td>theano</td>\n",
       "      <td>Keras-2.0.3/theano_0.9.0</td>\n",
       "      <td>Tesla P100-PCIE-16GB</td>\n",
       "      <td>[1]</td>\n",
       "      <td>roma4.m.gsic.titech.ac.jp</td>\n",
       "      <td>roma4</td>\n",
       "      <td>Linux-3.10.0-514.16.1.el7.x86_64-x86_64-with-c...</td>\n",
       "      <td>1</td>\n",
       "      <td>./</td>\n",
       "      <td>conv2d_1</td>\n",
       "      <td>[2048, 1, 128, 128]</td>\n",
       "      <td>0.444422</td>\n",
       "    </tr>\n",
       "    <tr>\n",
       "      <th>7</th>\n",
       "      <td>8</td>\n",
       "      <td>134217728</td>\n",
       "      <td>NaN</td>\n",
       "      <td>Intel(R) Xeon(R) CPU E5-2650 v3 @ 2.30GHz</td>\n",
       "      <td>40</td>\n",
       "      <td>P100-PCIE</td>\n",
       "      <td>chainer</td>\n",
       "      <td>Chainer-2.0.0a1</td>\n",
       "      <td>Tesla P100-PCIE-16GB</td>\n",
       "      <td>NaN</td>\n",
       "      <td>roma5.m.gsic.titech.ac.jp</td>\n",
       "      <td>roma5</td>\n",
       "      <td>Linux-3.10.0-327.18.2.el7.x86_64-x86_64-with-c...</td>\n",
       "      <td>1</td>\n",
       "      <td>/work/alex/data/DL_perf/json</td>\n",
       "      <td>conv2d_1</td>\n",
       "      <td>[2048, 1, 128, 128]</td>\n",
       "      <td>3.234017</td>\n",
       "    </tr>\n",
       "    <tr>\n",
       "      <th>8</th>\n",
       "      <td>8</td>\n",
       "      <td>134217728</td>\n",
       "      <td>NaN</td>\n",
       "      <td>Intel(R) Xeon(R) CPU E5-2699 v3 @ 2.30GHz</td>\n",
       "      <td>36</td>\n",
       "      <td>E5-2699</td>\n",
       "      <td>tensorflow</td>\n",
       "      <td>Keras-2.0.3/tensorflow_1.1.0-rc1</td>\n",
       "      <td>Tesla K40c</td>\n",
       "      <td>NaN</td>\n",
       "      <td>paris0.m.gsic.titech.ac.jp</td>\n",
       "      <td>paris0</td>\n",
       "      <td>Linux-3.10.0-327.36.2.el7.x86_64-x86_64-with-c...</td>\n",
       "      <td>0</td>\n",
       "      <td>/work/alex/data/DL_perf/json</td>\n",
       "      <td>conv2d_1</td>\n",
       "      <td>[2048, 1, 128, 128]</td>\n",
       "      <td>0.874078</td>\n",
       "    </tr>\n",
       "    <tr>\n",
       "      <th>9</th>\n",
       "      <td>8</td>\n",
       "      <td>134217728</td>\n",
       "      <td>NaN</td>\n",
       "      <td>Intel(R) Xeon(R) CPU E5-2699 v3 @ 2.30GHz</td>\n",
       "      <td>36</td>\n",
       "      <td>E5-2699</td>\n",
       "      <td>tensorflow</td>\n",
       "      <td>Keras-2.0.3/tensorflow_1.1.0-rc1</td>\n",
       "      <td>Tesla K40c</td>\n",
       "      <td>NaN</td>\n",
       "      <td>paris0.m.gsic.titech.ac.jp</td>\n",
       "      <td>paris0</td>\n",
       "      <td>Linux-3.10.0-327.36.2.el7.x86_64-x86_64-with-c...</td>\n",
       "      <td>0</td>\n",
       "      <td>/work/alex/data/DL_perf/json</td>\n",
       "      <td>conv3d_1</td>\n",
       "      <td>[1024, 1, 32, 32, 32]</td>\n",
       "      <td>8.861501</td>\n",
       "    </tr>\n",
       "    <tr>\n",
       "      <th>10</th>\n",
       "      <td>8</td>\n",
       "      <td>134217728</td>\n",
       "      <td>NaN</td>\n",
       "      <td>Intel(R) Xeon(R) CPU E5-2699 v3 @ 2.30GHz</td>\n",
       "      <td>36</td>\n",
       "      <td>E5-2699</td>\n",
       "      <td>theano</td>\n",
       "      <td>Keras-2.0.3/theano_0.9.0</td>\n",
       "      <td>Tesla K40c</td>\n",
       "      <td>NaN</td>\n",
       "      <td>paris0.m.gsic.titech.ac.jp</td>\n",
       "      <td>paris0</td>\n",
       "      <td>Linux-3.10.0-327.36.2.el7.x86_64-x86_64-with-c...</td>\n",
       "      <td>0</td>\n",
       "      <td>/work/alex/data/DL_perf/json</td>\n",
       "      <td>conv2d_1</td>\n",
       "      <td>[2048, 1, 128, 128]</td>\n",
       "      <td>4.176211</td>\n",
       "    </tr>\n",
       "    <tr>\n",
       "      <th>11</th>\n",
       "      <td>8</td>\n",
       "      <td>134217728</td>\n",
       "      <td>1</td>\n",
       "      <td>Intel(R) Xeon(R) CPU E5-2650 v3 @ 2.30GHz</td>\n",
       "      <td>40</td>\n",
       "      <td>P100-PCIE</td>\n",
       "      <td>theano</td>\n",
       "      <td>Keras-2.0.3/theano_0.9.0</td>\n",
       "      <td>Tesla P100-PCIE-16GB</td>\n",
       "      <td>[1]</td>\n",
       "      <td>roma4.m.gsic.titech.ac.jp</td>\n",
       "      <td>roma4</td>\n",
       "      <td>Linux-3.10.0-514.16.1.el7.x86_64-x86_64-with-c...</td>\n",
       "      <td>1</td>\n",
       "      <td>./</td>\n",
       "      <td>conv3d_1</td>\n",
       "      <td>[1024, 1, 32, 32, 32]</td>\n",
       "      <td>1.103491</td>\n",
       "    </tr>\n",
       "    <tr>\n",
       "      <th>12</th>\n",
       "      <td>8</td>\n",
       "      <td>134217728</td>\n",
       "      <td>NaN</td>\n",
       "      <td>Intel(R) Xeon(R) CPU E5-2650 v3 @ 2.30GHz</td>\n",
       "      <td>40</td>\n",
       "      <td>P100-PCIE</td>\n",
       "      <td>mxnet</td>\n",
       "      <td>MXNet-0.9.3</td>\n",
       "      <td>Tesla P100-PCIE-16GB</td>\n",
       "      <td>[1]</td>\n",
       "      <td>roma4.m.gsic.titech.ac.jp</td>\n",
       "      <td>roma4</td>\n",
       "      <td>Linux-3.10.0-514.16.1.el7.x86_64-x86_64-with-c...</td>\n",
       "      <td>1</td>\n",
       "      <td>./</td>\n",
       "      <td>conv2d_2</td>\n",
       "      <td>[2048, 1, 128, 128]</td>\n",
       "      <td>5.286065</td>\n",
       "    </tr>\n",
       "    <tr>\n",
       "      <th>13</th>\n",
       "      <td>8</td>\n",
       "      <td>134217728</td>\n",
       "      <td>NaN</td>\n",
       "      <td>Intel(R) Xeon(R) CPU E5-2650 v3 @ 2.30GHz</td>\n",
       "      <td>40</td>\n",
       "      <td>P100-PCIE</td>\n",
       "      <td>mxnet</td>\n",
       "      <td>MXNet-0.9.3</td>\n",
       "      <td>Tesla P100-PCIE-16GB</td>\n",
       "      <td>[1]</td>\n",
       "      <td>roma4.m.gsic.titech.ac.jp</td>\n",
       "      <td>roma4</td>\n",
       "      <td>Linux-3.10.0-514.16.1.el7.x86_64-x86_64-with-c...</td>\n",
       "      <td>1</td>\n",
       "      <td>./</td>\n",
       "      <td>conv2d_1</td>\n",
       "      <td>[2048, 1, 128, 128]</td>\n",
       "      <td>1.267838</td>\n",
       "    </tr>\n",
       "    <tr>\n",
       "      <th>14</th>\n",
       "      <td>8</td>\n",
       "      <td>134217728</td>\n",
       "      <td>NaN</td>\n",
       "      <td>Intel(R) Xeon(R) CPU E5-2650 v3 @ 2.30GHz</td>\n",
       "      <td>40</td>\n",
       "      <td>P100-PCIE</td>\n",
       "      <td>chainer</td>\n",
       "      <td>Chainer-2.0.0a1</td>\n",
       "      <td>Tesla P100-PCIE-16GB</td>\n",
       "      <td>[1]</td>\n",
       "      <td>roma4.m.gsic.titech.ac.jp</td>\n",
       "      <td>roma4</td>\n",
       "      <td>Linux-3.10.0-514.16.1.el7.x86_64-x86_64-with-c...</td>\n",
       "      <td>1</td>\n",
       "      <td>./</td>\n",
       "      <td>conv2d_1</td>\n",
       "      <td>[2048, 1, 128, 128]</td>\n",
       "      <td>2.866930</td>\n",
       "    </tr>\n",
       "    <tr>\n",
       "      <th>15</th>\n",
       "      <td>8</td>\n",
       "      <td>134217728</td>\n",
       "      <td>1</td>\n",
       "      <td>Intel(R) Xeon(R) CPU E5-2650 v3 @ 2.30GHz</td>\n",
       "      <td>40</td>\n",
       "      <td>P100-PCIE</td>\n",
       "      <td>theano</td>\n",
       "      <td>Keras-2.0.4/theano_0.9.0</td>\n",
       "      <td>Tesla P100-PCIE-16GB</td>\n",
       "      <td>[1]</td>\n",
       "      <td>roma4.m.gsic.titech.ac.jp</td>\n",
       "      <td>roma4</td>\n",
       "      <td>Linux-3.10.0-514.16.1.el7.x86_64-x86_64-with-c...</td>\n",
       "      <td>1</td>\n",
       "      <td>./</td>\n",
       "      <td>conv2d_2</td>\n",
       "      <td>[2048, 1, 128, 128]</td>\n",
       "      <td>6.281071</td>\n",
       "    </tr>\n",
       "    <tr>\n",
       "      <th>16</th>\n",
       "      <td>8</td>\n",
       "      <td>134217728</td>\n",
       "      <td>NaN</td>\n",
       "      <td>Intel(R) Xeon(R) CPU E5-2699 v3 @ 2.30GHz</td>\n",
       "      <td>36</td>\n",
       "      <td>E5-2699</td>\n",
       "      <td>chainer</td>\n",
       "      <td>Chainer-2.0.0a1</td>\n",
       "      <td>Tesla K40c</td>\n",
       "      <td>NaN</td>\n",
       "      <td>paris1.m.gsic.titech.ac.jp</td>\n",
       "      <td>paris1</td>\n",
       "      <td>Linux-3.10.0-327.36.1.el7.x86_64-x86_64-with-c...</td>\n",
       "      <td>0</td>\n",
       "      <td>/work/alex/data/DL_perf/json</td>\n",
       "      <td>conv3d_1</td>\n",
       "      <td>[1024, 1, 32, 32, 32]</td>\n",
       "      <td>123.460109</td>\n",
       "    </tr>\n",
       "    <tr>\n",
       "      <th>17</th>\n",
       "      <td>512</td>\n",
       "      <td>456649800</td>\n",
       "      <td>57</td>\n",
       "      <td>Intel(R) Xeon(R) CPU E5-2650 v3 @ 2.30GHz</td>\n",
       "      <td>40</td>\n",
       "      <td>P100-PCIE</td>\n",
       "      <td>theano</td>\n",
       "      <td>Keras-2.0.3/theano_0.9.0</td>\n",
       "      <td>Tesla P100-PCIE-16GB</td>\n",
       "      <td>[1]</td>\n",
       "      <td>roma4.m.gsic.titech.ac.jp</td>\n",
       "      <td>roma4</td>\n",
       "      <td>Linux-3.10.0-514.16.1.el7.x86_64-x86_64-with-c...</td>\n",
       "      <td>1</td>\n",
       "      <td>./</td>\n",
       "      <td>lstm_char1</td>\n",
       "      <td>[200285, 40, 57]</td>\n",
       "      <td>28.763147</td>\n",
       "    </tr>\n",
       "    <tr>\n",
       "      <th>18</th>\n",
       "      <td>8</td>\n",
       "      <td>134217728</td>\n",
       "      <td>NaN</td>\n",
       "      <td>Intel(R) Xeon(R) CPU E5-2699 v3 @ 2.30GHz</td>\n",
       "      <td>36</td>\n",
       "      <td>E5-2699</td>\n",
       "      <td>theano</td>\n",
       "      <td>Keras-2.0.3/theano_0.9.0</td>\n",
       "      <td>Tesla K40c</td>\n",
       "      <td>NaN</td>\n",
       "      <td>paris1.m.gsic.titech.ac.jp</td>\n",
       "      <td>paris1</td>\n",
       "      <td>Linux-3.10.0-327.36.1.el7.x86_64-x86_64-with-c...</td>\n",
       "      <td>0</td>\n",
       "      <td>/work/alex/data/DL_perf/json</td>\n",
       "      <td>conv3d_1</td>\n",
       "      <td>[1024, 1, 32, 32, 32]</td>\n",
       "      <td>12.678342</td>\n",
       "    </tr>\n",
       "    <tr>\n",
       "      <th>19</th>\n",
       "      <td>8</td>\n",
       "      <td>134217728</td>\n",
       "      <td>NaN</td>\n",
       "      <td>Intel(R) Xeon(R) CPU E5-2650 v3 @ 2.30GHz</td>\n",
       "      <td>40</td>\n",
       "      <td>P100-PCIE</td>\n",
       "      <td>chainer</td>\n",
       "      <td>Chainer-2.0.0a1</td>\n",
       "      <td>Tesla P100-PCIE-16GB</td>\n",
       "      <td>NaN</td>\n",
       "      <td>roma5.m.gsic.titech.ac.jp</td>\n",
       "      <td>roma5</td>\n",
       "      <td>Linux-3.10.0-327.18.2.el7.x86_64-x86_64-with-c...</td>\n",
       "      <td>1</td>\n",
       "      <td>/work/alex/data/DL_perf/json</td>\n",
       "      <td>conv2d_1</td>\n",
       "      <td>[2048, 1, 128, 128]</td>\n",
       "      <td>3.274085</td>\n",
       "    </tr>\n",
       "    <tr>\n",
       "      <th>20</th>\n",
       "      <td>8</td>\n",
       "      <td>134217728</td>\n",
       "      <td>1</td>\n",
       "      <td>Intel(R) Xeon(R) CPU E5-2650 v3 @ 2.30GHz</td>\n",
       "      <td>40</td>\n",
       "      <td>P100-PCIE</td>\n",
       "      <td>theano</td>\n",
       "      <td>Keras-2.0.3/theano_0.9.0</td>\n",
       "      <td>Tesla P100-PCIE-16GB</td>\n",
       "      <td>[1]</td>\n",
       "      <td>roma4.m.gsic.titech.ac.jp</td>\n",
       "      <td>roma4</td>\n",
       "      <td>Linux-3.10.0-514.16.1.el7.x86_64-x86_64-with-c...</td>\n",
       "      <td>1</td>\n",
       "      <td>./</td>\n",
       "      <td>conv2d_1</td>\n",
       "      <td>[2048, 1, 128, 128]</td>\n",
       "      <td>0.450851</td>\n",
       "    </tr>\n",
       "    <tr>\n",
       "      <th>21</th>\n",
       "      <td>8</td>\n",
       "      <td>134217728</td>\n",
       "      <td>1</td>\n",
       "      <td>Intel(R) Xeon(R) CPU E5-2650 v3 @ 2.30GHz</td>\n",
       "      <td>40</td>\n",
       "      <td>P100-PCIE</td>\n",
       "      <td>theano</td>\n",
       "      <td>Keras-2.0.3/theano_0.9.0</td>\n",
       "      <td>Tesla P100-PCIE-16GB</td>\n",
       "      <td>[1]</td>\n",
       "      <td>roma4.m.gsic.titech.ac.jp</td>\n",
       "      <td>roma4</td>\n",
       "      <td>Linux-3.10.0-514.16.1.el7.x86_64-x86_64-with-c...</td>\n",
       "      <td>1</td>\n",
       "      <td>./</td>\n",
       "      <td>conv2d_2</td>\n",
       "      <td>[2048, 1, 128, 128]</td>\n",
       "      <td>6.287895</td>\n",
       "    </tr>\n",
       "    <tr>\n",
       "      <th>22</th>\n",
       "      <td>8</td>\n",
       "      <td>134217728</td>\n",
       "      <td>1</td>\n",
       "      <td>Intel(R) Xeon(R) CPU E5-2650 v3 @ 2.30GHz</td>\n",
       "      <td>40</td>\n",
       "      <td>P100-PCIE</td>\n",
       "      <td>tensorflow</td>\n",
       "      <td>Keras-2.0.4/tensorflow_1.1.0-rc1</td>\n",
       "      <td>Tesla P100-PCIE-16GB</td>\n",
       "      <td>[1]</td>\n",
       "      <td>roma4.m.gsic.titech.ac.jp</td>\n",
       "      <td>roma4</td>\n",
       "      <td>Linux-3.10.0-514.16.1.el7.x86_64-x86_64-with-c...</td>\n",
       "      <td>1</td>\n",
       "      <td>./</td>\n",
       "      <td>conv2d_2</td>\n",
       "      <td>[2048, 1, 128, 128]</td>\n",
       "      <td>20.935622</td>\n",
       "    </tr>\n",
       "    <tr>\n",
       "      <th>23</th>\n",
       "      <td>8</td>\n",
       "      <td>134217728</td>\n",
       "      <td>NaN</td>\n",
       "      <td>Intel(R) Xeon(R) CPU E5-2650 v3 @ 2.30GHz</td>\n",
       "      <td>40</td>\n",
       "      <td>P100-PCIE</td>\n",
       "      <td>chainer</td>\n",
       "      <td>Chainer-2.0.0a1</td>\n",
       "      <td>Tesla P100-PCIE-16GB</td>\n",
       "      <td>[1]</td>\n",
       "      <td>roma4.m.gsic.titech.ac.jp</td>\n",
       "      <td>roma4</td>\n",
       "      <td>Linux-3.10.0-514.16.1.el7.x86_64-x86_64-with-c...</td>\n",
       "      <td>1</td>\n",
       "      <td>./</td>\n",
       "      <td>conv2d_1</td>\n",
       "      <td>[2048, 1, 128, 128]</td>\n",
       "      <td>2.340346</td>\n",
       "    </tr>\n",
       "    <tr>\n",
       "      <th>24</th>\n",
       "      <td>8</td>\n",
       "      <td>134217728</td>\n",
       "      <td>1</td>\n",
       "      <td>Intel(R) Xeon(R) CPU E5-2650 v3 @ 2.30GHz</td>\n",
       "      <td>40</td>\n",
       "      <td>P100-PCIE</td>\n",
       "      <td>tensorflow</td>\n",
       "      <td>Keras-2.0.4/tensorflow_1.1.0-rc1</td>\n",
       "      <td>Tesla P100-PCIE-16GB</td>\n",
       "      <td>[1]</td>\n",
       "      <td>roma4.m.gsic.titech.ac.jp</td>\n",
       "      <td>roma4</td>\n",
       "      <td>Linux-3.10.0-514.16.1.el7.x86_64-x86_64-with-c...</td>\n",
       "      <td>1</td>\n",
       "      <td>./</td>\n",
       "      <td>conv2d_1</td>\n",
       "      <td>[2048, 1, 128, 128]</td>\n",
       "      <td>1.711512</td>\n",
       "    </tr>\n",
       "  </tbody>\n",
       "</table>\n",
       "</div>"
      ],
      "text/plain": [
       "    batch_size  bytes_x_train  cnt_classes  \\\n",
       "0          512      456649800           57   \n",
       "1            8      134217728          NaN   \n",
       "2            8      134217728            1   \n",
       "3            8      134217728          NaN   \n",
       "4            8      134217728          NaN   \n",
       "5          512      456649800           57   \n",
       "6            8      134217728            1   \n",
       "7            8      134217728          NaN   \n",
       "8            8      134217728          NaN   \n",
       "9            8      134217728          NaN   \n",
       "10           8      134217728          NaN   \n",
       "11           8      134217728            1   \n",
       "12           8      134217728          NaN   \n",
       "13           8      134217728          NaN   \n",
       "14           8      134217728          NaN   \n",
       "15           8      134217728            1   \n",
       "16           8      134217728          NaN   \n",
       "17         512      456649800           57   \n",
       "18           8      134217728          NaN   \n",
       "19           8      134217728          NaN   \n",
       "20           8      134217728            1   \n",
       "21           8      134217728            1   \n",
       "22           8      134217728            1   \n",
       "23           8      134217728          NaN   \n",
       "24           8      134217728            1   \n",
       "\n",
       "                                    cpu_brand  cpu_count     device  \\\n",
       "0   Intel(R) Xeon(R) CPU E5-2650 v3 @ 2.30GHz         40  P100-PCIE   \n",
       "1   Intel(R) Xeon(R) CPU E5-2699 v3 @ 2.30GHz         36    E5-2699   \n",
       "2   Intel(R) Xeon(R) CPU E5-2650 v3 @ 2.30GHz         40  P100-PCIE   \n",
       "3   Intel(R) Xeon(R) CPU E5-2650 v3 @ 2.30GHz         40  P100-PCIE   \n",
       "4   Intel(R) Xeon(R) CPU E5-2699 v3 @ 2.30GHz         36    E5-2699   \n",
       "5   Intel(R) Xeon(R) CPU E5-2650 v3 @ 2.30GHz         40  P100-PCIE   \n",
       "6   Intel(R) Xeon(R) CPU E5-2650 v3 @ 2.30GHz         40  P100-PCIE   \n",
       "7   Intel(R) Xeon(R) CPU E5-2650 v3 @ 2.30GHz         40  P100-PCIE   \n",
       "8   Intel(R) Xeon(R) CPU E5-2699 v3 @ 2.30GHz         36    E5-2699   \n",
       "9   Intel(R) Xeon(R) CPU E5-2699 v3 @ 2.30GHz         36    E5-2699   \n",
       "10  Intel(R) Xeon(R) CPU E5-2699 v3 @ 2.30GHz         36    E5-2699   \n",
       "11  Intel(R) Xeon(R) CPU E5-2650 v3 @ 2.30GHz         40  P100-PCIE   \n",
       "12  Intel(R) Xeon(R) CPU E5-2650 v3 @ 2.30GHz         40  P100-PCIE   \n",
       "13  Intel(R) Xeon(R) CPU E5-2650 v3 @ 2.30GHz         40  P100-PCIE   \n",
       "14  Intel(R) Xeon(R) CPU E5-2650 v3 @ 2.30GHz         40  P100-PCIE   \n",
       "15  Intel(R) Xeon(R) CPU E5-2650 v3 @ 2.30GHz         40  P100-PCIE   \n",
       "16  Intel(R) Xeon(R) CPU E5-2699 v3 @ 2.30GHz         36    E5-2699   \n",
       "17  Intel(R) Xeon(R) CPU E5-2650 v3 @ 2.30GHz         40  P100-PCIE   \n",
       "18  Intel(R) Xeon(R) CPU E5-2699 v3 @ 2.30GHz         36    E5-2699   \n",
       "19  Intel(R) Xeon(R) CPU E5-2650 v3 @ 2.30GHz         40  P100-PCIE   \n",
       "20  Intel(R) Xeon(R) CPU E5-2650 v3 @ 2.30GHz         40  P100-PCIE   \n",
       "21  Intel(R) Xeon(R) CPU E5-2650 v3 @ 2.30GHz         40  P100-PCIE   \n",
       "22  Intel(R) Xeon(R) CPU E5-2650 v3 @ 2.30GHz         40  P100-PCIE   \n",
       "23  Intel(R) Xeon(R) CPU E5-2650 v3 @ 2.30GHz         40  P100-PCIE   \n",
       "24  Intel(R) Xeon(R) CPU E5-2650 v3 @ 2.30GHz         40  P100-PCIE   \n",
       "\n",
       "     framework                    framework_full                   gpu gpus  \\\n",
       "0   tensorflow  Keras-2.0.3/tensorflow_1.1.0-rc1  Tesla P100-PCIE-16GB  [1]   \n",
       "1       theano          Keras-2.0.3/theano_0.9.0            Tesla K40c  NaN   \n",
       "2       theano          Keras-2.0.4/theano_0.9.0  Tesla P100-PCIE-16GB  [1]   \n",
       "3      chainer                   Chainer-2.0.0a1  Tesla P100-PCIE-16GB  [1]   \n",
       "4      chainer                   Chainer-2.0.0a1            Tesla K40c  NaN   \n",
       "5       theano          Keras-2.0.3/theano_0.9.0  Tesla P100-PCIE-16GB  [1]   \n",
       "6       theano          Keras-2.0.3/theano_0.9.0  Tesla P100-PCIE-16GB  [1]   \n",
       "7      chainer                   Chainer-2.0.0a1  Tesla P100-PCIE-16GB  NaN   \n",
       "8   tensorflow  Keras-2.0.3/tensorflow_1.1.0-rc1            Tesla K40c  NaN   \n",
       "9   tensorflow  Keras-2.0.3/tensorflow_1.1.0-rc1            Tesla K40c  NaN   \n",
       "10      theano          Keras-2.0.3/theano_0.9.0            Tesla K40c  NaN   \n",
       "11      theano          Keras-2.0.3/theano_0.9.0  Tesla P100-PCIE-16GB  [1]   \n",
       "12       mxnet                       MXNet-0.9.3  Tesla P100-PCIE-16GB  [1]   \n",
       "13       mxnet                       MXNet-0.9.3  Tesla P100-PCIE-16GB  [1]   \n",
       "14     chainer                   Chainer-2.0.0a1  Tesla P100-PCIE-16GB  [1]   \n",
       "15      theano          Keras-2.0.4/theano_0.9.0  Tesla P100-PCIE-16GB  [1]   \n",
       "16     chainer                   Chainer-2.0.0a1            Tesla K40c  NaN   \n",
       "17      theano          Keras-2.0.3/theano_0.9.0  Tesla P100-PCIE-16GB  [1]   \n",
       "18      theano          Keras-2.0.3/theano_0.9.0            Tesla K40c  NaN   \n",
       "19     chainer                   Chainer-2.0.0a1  Tesla P100-PCIE-16GB  NaN   \n",
       "20      theano          Keras-2.0.3/theano_0.9.0  Tesla P100-PCIE-16GB  [1]   \n",
       "21      theano          Keras-2.0.3/theano_0.9.0  Tesla P100-PCIE-16GB  [1]   \n",
       "22  tensorflow  Keras-2.0.4/tensorflow_1.1.0-rc1  Tesla P100-PCIE-16GB  [1]   \n",
       "23     chainer                   Chainer-2.0.0a1  Tesla P100-PCIE-16GB  [1]   \n",
       "24  tensorflow  Keras-2.0.4/tensorflow_1.1.0-rc1  Tesla P100-PCIE-16GB  [1]   \n",
       "\n",
       "                      hostname hostname_short  \\\n",
       "0    roma4.m.gsic.titech.ac.jp          roma4   \n",
       "1   paris0.m.gsic.titech.ac.jp         paris0   \n",
       "2    roma4.m.gsic.titech.ac.jp          roma4   \n",
       "3    roma4.m.gsic.titech.ac.jp          roma4   \n",
       "4   paris0.m.gsic.titech.ac.jp         paris0   \n",
       "5    roma4.m.gsic.titech.ac.jp          roma4   \n",
       "6    roma4.m.gsic.titech.ac.jp          roma4   \n",
       "7    roma5.m.gsic.titech.ac.jp          roma5   \n",
       "8   paris0.m.gsic.titech.ac.jp         paris0   \n",
       "9   paris0.m.gsic.titech.ac.jp         paris0   \n",
       "10  paris0.m.gsic.titech.ac.jp         paris0   \n",
       "11   roma4.m.gsic.titech.ac.jp          roma4   \n",
       "12   roma4.m.gsic.titech.ac.jp          roma4   \n",
       "13   roma4.m.gsic.titech.ac.jp          roma4   \n",
       "14   roma4.m.gsic.titech.ac.jp          roma4   \n",
       "15   roma4.m.gsic.titech.ac.jp          roma4   \n",
       "16  paris1.m.gsic.titech.ac.jp         paris1   \n",
       "17   roma4.m.gsic.titech.ac.jp          roma4   \n",
       "18  paris1.m.gsic.titech.ac.jp         paris1   \n",
       "19   roma5.m.gsic.titech.ac.jp          roma5   \n",
       "20   roma4.m.gsic.titech.ac.jp          roma4   \n",
       "21   roma4.m.gsic.titech.ac.jp          roma4   \n",
       "22   roma4.m.gsic.titech.ac.jp          roma4   \n",
       "23   roma4.m.gsic.titech.ac.jp          roma4   \n",
       "24   roma4.m.gsic.titech.ac.jp          roma4   \n",
       "\n",
       "                                                linux  nb_gpus  \\\n",
       "0   Linux-3.10.0-514.16.1.el7.x86_64-x86_64-with-c...        1   \n",
       "1   Linux-3.10.0-327.36.2.el7.x86_64-x86_64-with-c...        0   \n",
       "2   Linux-3.10.0-514.16.1.el7.x86_64-x86_64-with-c...        1   \n",
       "3   Linux-3.10.0-514.16.1.el7.x86_64-x86_64-with-c...        1   \n",
       "4   Linux-3.10.0-327.36.2.el7.x86_64-x86_64-with-c...        0   \n",
       "5   Linux-3.10.0-514.16.1.el7.x86_64-x86_64-with-c...        1   \n",
       "6   Linux-3.10.0-514.16.1.el7.x86_64-x86_64-with-c...        1   \n",
       "7   Linux-3.10.0-327.18.2.el7.x86_64-x86_64-with-c...        1   \n",
       "8   Linux-3.10.0-327.36.2.el7.x86_64-x86_64-with-c...        0   \n",
       "9   Linux-3.10.0-327.36.2.el7.x86_64-x86_64-with-c...        0   \n",
       "10  Linux-3.10.0-327.36.2.el7.x86_64-x86_64-with-c...        0   \n",
       "11  Linux-3.10.0-514.16.1.el7.x86_64-x86_64-with-c...        1   \n",
       "12  Linux-3.10.0-514.16.1.el7.x86_64-x86_64-with-c...        1   \n",
       "13  Linux-3.10.0-514.16.1.el7.x86_64-x86_64-with-c...        1   \n",
       "14  Linux-3.10.0-514.16.1.el7.x86_64-x86_64-with-c...        1   \n",
       "15  Linux-3.10.0-514.16.1.el7.x86_64-x86_64-with-c...        1   \n",
       "16  Linux-3.10.0-327.36.1.el7.x86_64-x86_64-with-c...        0   \n",
       "17  Linux-3.10.0-514.16.1.el7.x86_64-x86_64-with-c...        1   \n",
       "18  Linux-3.10.0-327.36.1.el7.x86_64-x86_64-with-c...        0   \n",
       "19  Linux-3.10.0-327.18.2.el7.x86_64-x86_64-with-c...        1   \n",
       "20  Linux-3.10.0-514.16.1.el7.x86_64-x86_64-with-c...        1   \n",
       "21  Linux-3.10.0-514.16.1.el7.x86_64-x86_64-with-c...        1   \n",
       "22  Linux-3.10.0-514.16.1.el7.x86_64-x86_64-with-c...        1   \n",
       "23  Linux-3.10.0-514.16.1.el7.x86_64-x86_64-with-c...        1   \n",
       "24  Linux-3.10.0-514.16.1.el7.x86_64-x86_64-with-c...        1   \n",
       "\n",
       "                        path_out     problem          shape_x_train  \\\n",
       "0                             ./  lstm_char1       [200285, 40, 57]   \n",
       "1   /work/alex/data/DL_perf/json    conv3d_1  [1024, 1, 32, 32, 32]   \n",
       "2                             ./    conv2d_1    [2048, 1, 128, 128]   \n",
       "3                             ./    conv2d_2    [2048, 1, 128, 128]   \n",
       "4   /work/alex/data/DL_perf/json    conv2d_1    [2048, 1, 128, 128]   \n",
       "5                             ./  lstm_char1       [200285, 40, 57]   \n",
       "6                             ./    conv2d_1    [2048, 1, 128, 128]   \n",
       "7   /work/alex/data/DL_perf/json    conv2d_1    [2048, 1, 128, 128]   \n",
       "8   /work/alex/data/DL_perf/json    conv2d_1    [2048, 1, 128, 128]   \n",
       "9   /work/alex/data/DL_perf/json    conv3d_1  [1024, 1, 32, 32, 32]   \n",
       "10  /work/alex/data/DL_perf/json    conv2d_1    [2048, 1, 128, 128]   \n",
       "11                            ./    conv3d_1  [1024, 1, 32, 32, 32]   \n",
       "12                            ./    conv2d_2    [2048, 1, 128, 128]   \n",
       "13                            ./    conv2d_1    [2048, 1, 128, 128]   \n",
       "14                            ./    conv2d_1    [2048, 1, 128, 128]   \n",
       "15                            ./    conv2d_2    [2048, 1, 128, 128]   \n",
       "16  /work/alex/data/DL_perf/json    conv3d_1  [1024, 1, 32, 32, 32]   \n",
       "17                            ./  lstm_char1       [200285, 40, 57]   \n",
       "18  /work/alex/data/DL_perf/json    conv3d_1  [1024, 1, 32, 32, 32]   \n",
       "19  /work/alex/data/DL_perf/json    conv2d_1    [2048, 1, 128, 128]   \n",
       "20                            ./    conv2d_1    [2048, 1, 128, 128]   \n",
       "21                            ./    conv2d_2    [2048, 1, 128, 128]   \n",
       "22                            ./    conv2d_2    [2048, 1, 128, 128]   \n",
       "23                            ./    conv2d_1    [2048, 1, 128, 128]   \n",
       "24                            ./    conv2d_1    [2048, 1, 128, 128]   \n",
       "\n",
       "          time  \n",
       "0    38.029440  \n",
       "1    12.665777  \n",
       "2     0.455705  \n",
       "3     4.893002  \n",
       "4    77.309290  \n",
       "5    29.548766  \n",
       "6     0.444422  \n",
       "7     3.234017  \n",
       "8     0.874078  \n",
       "9     8.861501  \n",
       "10    4.176211  \n",
       "11    1.103491  \n",
       "12    5.286065  \n",
       "13    1.267838  \n",
       "14    2.866930  \n",
       "15    6.281071  \n",
       "16  123.460109  \n",
       "17   28.763147  \n",
       "18   12.678342  \n",
       "19    3.274085  \n",
       "20    0.450851  \n",
       "21    6.287895  \n",
       "22   20.935622  \n",
       "23    2.340346  \n",
       "24    1.711512  "
      ]
     },
     "execution_count": 15,
     "metadata": {},
     "output_type": "execute_result"
    }
   ],
   "source": [
    "df"
   ]
  },
  {
   "cell_type": "code",
   "execution_count": null,
   "metadata": {
    "collapsed": true
   },
   "outputs": [],
   "source": []
  },
  {
   "cell_type": "code",
   "execution_count": 16,
   "metadata": {
    "collapsed": true
   },
   "outputs": [],
   "source": [
    "#df.sort_values(by=[\"device\",\"framework\"],inplace=True)\n",
    "#df.sort_values(by=[\"time\"],inplace=True)"
   ]
  },
  {
   "cell_type": "code",
   "execution_count": 17,
   "metadata": {},
   "outputs": [
    {
     "name": "stdout",
     "output_type": "stream",
     "text": [
      "['P100-PCIE' 'E5-2699']\n"
     ]
    }
   ],
   "source": [
    "#filter what to plot\n",
    "devices=df[\"device\"].unique()\n",
    "print(devices)\n",
    "#df"
   ]
  },
  {
   "cell_type": "code",
   "execution_count": 18,
   "metadata": {
    "collapsed": true
   },
   "outputs": [],
   "source": []
  },
  {
   "cell_type": "code",
   "execution_count": 19,
   "metadata": {
    "collapsed": true
   },
   "outputs": [],
   "source": [
    "#df_filtered = filter_by(df,filters={\"device\":\"P100-PCIE\"})"
   ]
  },
  {
   "cell_type": "code",
   "execution_count": 20,
   "metadata": {
    "collapsed": true
   },
   "outputs": [],
   "source": [
    "def render(key,filters,color):\n",
    "    id_dev=0\n",
    "    df_filtered = filter_by(df,filters)\n",
    "    df_plot=df_filtered.groupby([key],as_index=False).mean()\n",
    "    if df_plot.shape[0]<1:\n",
    "        return \"nothing to plot\"\n",
    "    df_plot.reset_index()\n",
    "    df_plot.sort_values(by=[\"time\"],inplace=True, ascending=False)\n",
    "\n",
    "    mpl.rcParams['figure.figsize'] = 12, 5\n",
    "    ax = plt.subplot('111')#, facecolor='white')\n",
    "    width=0.5\n",
    "    #ax.set_ylim(0,200)\n",
    "    err = df_filtered.groupby([key]).std()[\"time\"]\n",
    "    #print (err)\n",
    "    error_config = {'ecolor': 'r'}\n",
    "    bars = plt.bar(np.arange(len(df_plot))+width/2,df_plot[\"time\"],width=width,color=color, yerr=err, error_kw=error_config)\n",
    "    autolabel(bars,ax)\n",
    "    plt.ylabel(\"epoch time, s\",size=18)\n",
    "    plt.xticks(np.arange(len(df_plot))+0.25)\n",
    "    plt.yticks(size=18)\n",
    "    \n",
    "    #ax.set_xticks(np.arange(len(labels))+(width*cnt_models)/2, minor=False)\n",
    "    #ax.set_xticklabels(df[\"device\"], minor=False,size=18,rotation=0)\n",
    "    ax.set_xticklabels(df_plot[key], minor=False,size=18,rotation=0)\n",
    "    plt.grid(b=False, which='major', axis='x', )\n",
    "\n",
    "    plt.tick_params(axis='x', which='both', bottom='off', top='off',  labelbottom='on')\n",
    "    plt.tick_params(axis='y', which='both', left='off', right='off')\n",
    "    name_out=\"\"\n",
    "    title = \"\"\n",
    "    for key in filters:\n",
    "        name_out+=filters[key]+\"_\"\n",
    "        title+=filters[key]+\"  \"\n",
    "    name_out = name_out[:-1]\n",
    "    plt.title(title[:-1])\n",
    "    print(name_out)\n",
    "    plt.savefig(os.path.join(\"./plots\",name_out+\".svg\"),bbox_inches=\"tight\",transparent=True)\n",
    "    plt.show()\n",
    "#todo: time per byte"
   ]
  },
  {
   "cell_type": "code",
   "execution_count": 21,
   "metadata": {},
   "outputs": [
    {
     "name": "stdout",
     "output_type": "stream",
     "text": [
      "chainer_conv2d_2\n"
     ]
    },
    {
     "data": {
      "image/png": "[encoded data removed]",
      "text/plain": [
       "<matplotlib.figure.Figure at 0x7f20e286eb00>"
      ]
     },
     "metadata": {},
     "output_type": "display_data"
    }
   ],
   "source": [
    "#render(key=\"framework\",filters={\"device\":\"P100-PCIE\",\"problem\":\"conv2d_1\"},color=\"yellowgreen\")\n",
    "\n",
    "render(key=\"device\",filters={\"framework\":\"chainer\",\"problem\":\"conv2d_2\"},color=\"yellowgreen\")"
   ]
  },
  {
   "cell_type": "code",
   "execution_count": 22,
   "metadata": {},
   "outputs": [
    {
     "name": "stdout",
     "output_type": "stream",
     "text": [
      "P100-PCIE_lstm_char1\n"
     ]
    },
    {
     "data": {
      "image/png": "[encoded data removed]",
      "text/plain": [
       "<matplotlib.figure.Figure at 0x7f20e284a0b8>"
      ]
     },
     "metadata": {},
     "output_type": "display_data"
    },
    {
     "name": "stdout",
     "output_type": "stream",
     "text": [
      "P100-PCIE_conv3d_1\n"
     ]
    },
    {
     "data": {
      "image/png": "[encoded data removed]",
      "text/plain": [
       "<matplotlib.figure.Figure at 0x7f20e284a940>"
      ]
     },
     "metadata": {},
     "output_type": "display_data"
    },
    {
     "name": "stdout",
     "output_type": "stream",
     "text": [
      "P100-PCIE_conv2d_1\n"
     ]
    },
    {
     "data": {
      "image/png": "[encoded data removed]",
      "text/plain": [
       "<matplotlib.figure.Figure at 0x7f20dee98518>"
      ]
     },
     "metadata": {},
     "output_type": "display_data"
    },
    {
     "name": "stdout",
     "output_type": "stream",
     "text": [
      "P100-PCIE_conv2d_2\n"
     ]
    },
    {
     "data": {
      "image/png": "[encoded data removed]",
      "text/plain": [
       "<matplotlib.figure.Figure at 0x7f20deeeff60>"
      ]
     },
     "metadata": {},
     "output_type": "display_data"
    }
   ],
   "source": [
    "#    color=[\"dodgerblue\",\"yellowgreen\"][id_dev]\n",
    "for problem in df[\"problem\"].unique():\n",
    "    #render(key=\"framework\",filters={\"device\":\"E5-2699\",\"problem\":problem},color=\"dodgerblue\")\n",
    "    render(key=\"framework\",filters={\"device\":\"P100-PCIE\",\"problem\":problem},color=\"yellowgreen\")\n",
    "\n"
   ]
  },
  {
   "cell_type": "code",
   "execution_count": 23,
   "metadata": {},
   "outputs": [
    {
     "name": "stdout",
     "output_type": "stream",
     "text": [
      "conv3d_1_chainer\n"
     ]
    },
    {
     "data": {
      "image/png": "[encoded data removed]",
      "text/plain": [
       "<matplotlib.figure.Figure at 0x7f20def5fb00>"
      ]
     },
     "metadata": {},
     "output_type": "display_data"
    },
    {
     "name": "stdout",
     "output_type": "stream",
     "text": [
      "conv2d_1_chainer\n"
     ]
    },
    {
     "data": {
      "image/png": "[encoded data removed]",
      "text/plain": [
       "<matplotlib.figure.Figure at 0x7f20deecb748>"
      ]
     },
     "metadata": {},
     "output_type": "display_data"
    },
    {
     "name": "stdout",
     "output_type": "stream",
     "text": [
      "conv2d_2_chainer\n"
     ]
    },
    {
     "data": {
      "image/png": "[encoded data removed]",
      "text/plain": [
       "<matplotlib.figure.Figure at 0x7f20dede8860>"
      ]
     },
     "metadata": {},
     "output_type": "display_data"
    }
   ],
   "source": [
    "for problem in df[\"problem\"].unique():\n",
    "    render(key=\"device\",filters={\"problem\":problem,\"framework\":\"chainer\"},color=\"yellowgreen\")"
   ]
  },
  {
   "cell_type": "code",
   "execution_count": null,
   "metadata": {
    "collapsed": true
   },
   "outputs": [],
   "source": []
  },
  {
   "cell_type": "code",
   "execution_count": null,
   "metadata": {
    "collapsed": true
   },
   "outputs": [],
   "source": []
  },
  {
   "cell_type": "code",
   "execution_count": null,
   "metadata": {
    "collapsed": true
   },
   "outputs": [],
   "source": []
  },
  {
   "cell_type": "code",
   "execution_count": null,
   "metadata": {
    "collapsed": true
   },
   "outputs": [],
   "source": []
  },
  {
   "cell_type": "code",
   "execution_count": null,
   "metadata": {
    "collapsed": true
   },
   "outputs": [],
   "source": []
  },
  {
   "cell_type": "code",
   "execution_count": null,
   "metadata": {
    "collapsed": true
   },
   "outputs": [],
   "source": []
  },
  {
   "cell_type": "code",
   "execution_count": null,
   "metadata": {
    "collapsed": true
   },
   "outputs": [],
   "source": []
  },
  {
   "cell_type": "code",
   "execution_count": null,
   "metadata": {
    "collapsed": true
   },
   "outputs": [],
   "source": []
  },
  {
   "cell_type": "code",
   "execution_count": null,
   "metadata": {
    "collapsed": true
   },
   "outputs": [],
   "source": []
  },
  {
   "cell_type": "code",
   "execution_count": null,
   "metadata": {
    "collapsed": true
   },
   "outputs": [],
   "source": []
  },
  {
   "cell_type": "code",
   "execution_count": null,
   "metadata": {
    "collapsed": true
   },
   "outputs": [],
   "source": []
  },
  {
   "cell_type": "code",
   "execution_count": null,
   "metadata": {
    "collapsed": true
   },
   "outputs": [],
   "source": []
  },
  {
   "cell_type": "code",
   "execution_count": null,
   "metadata": {
    "collapsed": true
   },
   "outputs": [],
   "source": []
  },
  {
   "cell_type": "code",
   "execution_count": null,
   "metadata": {
    "collapsed": true
   },
   "outputs": [],
   "source": []
  },
  {
   "cell_type": "code",
   "execution_count": null,
   "metadata": {
    "collapsed": true
   },
   "outputs": [],
   "source": []
  },
  {
   "cell_type": "code",
   "execution_count": null,
   "metadata": {
    "collapsed": true
   },
   "outputs": [],
   "source": []
  }
 ],
 "metadata": {
  "kernelspec": {
   "display_name": "Python 3",
   "language": "python",
   "name": "python3"
  },
  "language_info": {
   "codemirror_mode": {
    "name": "ipython",
    "version": 3
   },
   "file_extension": ".py",
   "mimetype": "text/x-python",
   "name": "python",
   "nbconvert_exporter": "python",
   "pygments_lexer": "ipython3",
   "version": "3.6.1"
  }
 },
 "nbformat": 4,
 "nbformat_minor": 2
}
